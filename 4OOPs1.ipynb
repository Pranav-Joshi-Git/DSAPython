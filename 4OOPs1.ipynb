{
 "cells": [
  {
   "cell_type": "code",
   "execution_count": 3,
   "metadata": {},
   "outputs": [
    {
     "name": "stdout",
     "output_type": "stream",
     "text": [
      "<__main__.student object at 0x0000018AD2142AF0>\n"
     ]
    }
   ],
   "source": [
    "class student:\n",
    "    pass\n",
    "\n",
    "s1 = student()\n",
    "print(s1)\n",
    "s2 = student()\n",
    "s3 = student()\n"
   ]
  },
  {
   "cell_type": "code",
   "execution_count": 5,
   "metadata": {},
   "outputs": [],
   "source": [
    "s1.name = \"pranav\"\n",
    "s2.rollno = 23\n",
    "s3.name = \"rohan\"\n",
    "s3.rollno = 12"
   ]
  },
  {
   "cell_type": "code",
   "execution_count": 6,
   "metadata": {},
   "outputs": [
    {
     "data": {
      "text/plain": [
       "'pranav'"
      ]
     },
     "execution_count": 6,
     "metadata": {},
     "output_type": "execute_result"
    }
   ],
   "source": [
    "s1.name"
   ]
  },
  {
   "cell_type": "code",
   "execution_count": 7,
   "metadata": {},
   "outputs": [
    {
     "ename": "AttributeError",
     "evalue": "'student' object has no attribute 'name'",
     "output_type": "error",
     "traceback": [
      "\u001b[1;31m---------------------------------------------------------------------------\u001b[0m",
      "\u001b[1;31mAttributeError\u001b[0m                            Traceback (most recent call last)",
      "\u001b[1;32m<ipython-input-7-709594944e69>\u001b[0m in \u001b[0;36m<module>\u001b[1;34m\u001b[0m\n\u001b[1;32m----> 1\u001b[1;33m \u001b[0ms2\u001b[0m\u001b[1;33m.\u001b[0m\u001b[0mname\u001b[0m\u001b[1;33m\u001b[0m\u001b[1;33m\u001b[0m\u001b[0m\n\u001b[0m",
      "\u001b[1;31mAttributeError\u001b[0m: 'student' object has no attribute 'name'"
     ]
    }
   ],
   "source": [
    "s2.name"
   ]
  },
  {
   "cell_type": "markdown",
   "metadata": {},
   "source": [
    "To lookup at all the attributes of an Object"
   ]
  },
  {
   "cell_type": "code",
   "execution_count": 8,
   "metadata": {},
   "outputs": [
    {
     "data": {
      "text/plain": [
       "{'name': 'pranav'}"
      ]
     },
     "execution_count": 8,
     "metadata": {},
     "output_type": "execute_result"
    }
   ],
   "source": [
    "s1.__dict__"
   ]
  },
  {
   "cell_type": "code",
   "execution_count": 9,
   "metadata": {},
   "outputs": [
    {
     "data": {
      "text/plain": [
       "{'rollno': 23}"
      ]
     },
     "execution_count": 9,
     "metadata": {},
     "output_type": "execute_result"
    }
   ],
   "source": [
    "s2.__dict__"
   ]
  },
  {
   "cell_type": "code",
   "execution_count": 10,
   "metadata": {},
   "outputs": [
    {
     "data": {
      "text/plain": [
       "{'name': 'rohan', 'rollno': 12}"
      ]
     },
     "execution_count": 10,
     "metadata": {},
     "output_type": "execute_result"
    }
   ],
   "source": [
    "s3.__dict__"
   ]
  },
  {
   "cell_type": "markdown",
   "metadata": {},
   "source": [
    "To check whether an object is having certain attribute or not using \"hasattr(object_name,attribute_name)\""
   ]
  },
  {
   "cell_type": "code",
   "execution_count": 12,
   "metadata": {},
   "outputs": [
    {
     "data": {
      "text/plain": [
       "True"
      ]
     },
     "execution_count": 12,
     "metadata": {},
     "output_type": "execute_result"
    }
   ],
   "source": [
    "hasattr(s1,'name')"
   ]
  },
  {
   "cell_type": "code",
   "execution_count": 13,
   "metadata": {},
   "outputs": [
    {
     "data": {
      "text/plain": [
       "False"
      ]
     },
     "execution_count": 13,
     "metadata": {},
     "output_type": "execute_result"
    }
   ],
   "source": [
    "hasattr(s2,'name')"
   ]
  },
  {
   "cell_type": "code",
   "execution_count": 16,
   "metadata": {},
   "outputs": [
    {
     "name": "stdout",
     "output_type": "stream",
     "text": [
      "True\n"
     ]
    },
    {
     "data": {
      "text/plain": [
       "True"
      ]
     },
     "execution_count": 16,
     "metadata": {},
     "output_type": "execute_result"
    }
   ],
   "source": [
    "print(hasattr(s3,'name'))\n",
    "hasattr(s3,'rollno')"
   ]
  },
  {
   "cell_type": "markdown",
   "metadata": {},
   "source": [
    "To get the value of a attribute(key) corresponding to an object using \"getattr(object_name,attribute_name)\""
   ]
  },
  {
   "cell_type": "code",
   "execution_count": 17,
   "metadata": {},
   "outputs": [
    {
     "data": {
      "text/plain": [
       "'pranav'"
      ]
     },
     "execution_count": 17,
     "metadata": {},
     "output_type": "execute_result"
    }
   ],
   "source": [
    "getattr(s1,'name')"
   ]
  },
  {
   "cell_type": "code",
   "execution_count": 18,
   "metadata": {},
   "outputs": [
    {
     "ename": "AttributeError",
     "evalue": "'student' object has no attribute 'name'",
     "output_type": "error",
     "traceback": [
      "\u001b[1;31m---------------------------------------------------------------------------\u001b[0m",
      "\u001b[1;31mAttributeError\u001b[0m                            Traceback (most recent call last)",
      "\u001b[1;32m<ipython-input-18-ff670ab04ded>\u001b[0m in \u001b[0;36m<module>\u001b[1;34m\u001b[0m\n\u001b[1;32m----> 1\u001b[1;33m \u001b[0mgetattr\u001b[0m\u001b[1;33m(\u001b[0m\u001b[0ms2\u001b[0m\u001b[1;33m,\u001b[0m\u001b[1;34m'name'\u001b[0m\u001b[1;33m)\u001b[0m\u001b[1;33m\u001b[0m\u001b[1;33m\u001b[0m\u001b[0m\n\u001b[0m",
      "\u001b[1;31mAttributeError\u001b[0m: 'student' object has no attribute 'name'"
     ]
    }
   ],
   "source": [
    " getattr(s2,'name')"
   ]
  },
  {
   "cell_type": "markdown",
   "metadata": {},
   "source": [
    "if the object doesnot have the given attribute, we can pass the third parameter to the getattr() function; which will be treated as default value"
   ]
  },
  {
   "cell_type": "code",
   "execution_count": 19,
   "metadata": {},
   "outputs": [
    {
     "data": {
      "text/plain": [
       "''"
      ]
     },
     "execution_count": 19,
     "metadata": {},
     "output_type": "execute_result"
    }
   ],
   "source": [
    "getattr(s2,'name','')"
   ]
  },
  {
   "cell_type": "code",
   "execution_count": 21,
   "metadata": {},
   "outputs": [
    {
     "data": {
      "text/plain": [
       "'pranav'"
      ]
     },
     "execution_count": 21,
     "metadata": {},
     "output_type": "execute_result"
    }
   ],
   "source": [
    "getattr(s1,'name','') #it has value for 'name', so it doesnot use the default value"
   ]
  },
  {
   "cell_type": "markdown",
   "metadata": {},
   "source": [
    "We can delete a particular attribute corresponding to a object using delattr() function"
   ]
  },
  {
   "cell_type": "code",
   "execution_count": 22,
   "metadata": {},
   "outputs": [],
   "source": [
    "delattr(s1,'name')"
   ]
  },
  {
   "cell_type": "code",
   "execution_count": 23,
   "metadata": {},
   "outputs": [
    {
     "data": {
      "text/plain": [
       "{}"
      ]
     },
     "execution_count": 23,
     "metadata": {},
     "output_type": "execute_result"
    }
   ],
   "source": [
    "s1.__dict__"
   ]
  },
  {
   "cell_type": "markdown",
   "metadata": {},
   "source": [
    "### Self Parameter "
   ]
  },
  {
   "cell_type": "code",
   "execution_count": 2,
   "metadata": {},
   "outputs": [
    {
     "ename": "TypeError",
     "evalue": "studentdetails() takes 0 positional arguments but 1 was given",
     "output_type": "error",
     "traceback": [
      "\u001b[1;31m---------------------------------------------------------------------------\u001b[0m",
      "\u001b[1;31mTypeError\u001b[0m                                 Traceback (most recent call last)",
      "\u001b[1;32m<ipython-input-2-f2e871330374>\u001b[0m in \u001b[0;36m<module>\u001b[1;34m\u001b[0m\n\u001b[0;32m      4\u001b[0m \u001b[1;33m\u001b[0m\u001b[0m\n\u001b[0;32m      5\u001b[0m \u001b[0ms1\u001b[0m \u001b[1;33m=\u001b[0m \u001b[0mstudent\u001b[0m\u001b[1;33m(\u001b[0m\u001b[1;33m)\u001b[0m\u001b[1;33m\u001b[0m\u001b[1;33m\u001b[0m\u001b[0m\n\u001b[1;32m----> 6\u001b[1;33m \u001b[0ms1\u001b[0m\u001b[1;33m.\u001b[0m\u001b[0mstudentdetails\u001b[0m\u001b[1;33m(\u001b[0m\u001b[1;33m)\u001b[0m\u001b[1;33m\u001b[0m\u001b[1;33m\u001b[0m\u001b[0m\n\u001b[0m",
      "\u001b[1;31mTypeError\u001b[0m: studentdetails() takes 0 positional arguments but 1 was given"
     ]
    }
   ],
   "source": [
    "class student:\n",
    "    def studentdetails(self):\n",
    "        pass\n",
    "\n",
    "s1 = student()\n",
    "s1.studentdetails()\n",
    "student.studentdetails(s1)"
   ]
  },
  {
   "cell_type": "code",
   "execution_count": null,
   "metadata": {},
   "outputs": [],
   "source": [
    "'''python interprets s1.studentdetails() as \"student.studentdetails(s1)\"'''"
   ]
  },
  {
   "cell_type": "code",
   "execution_count": 6,
   "metadata": {},
   "outputs": [
    {
     "name": "stdout",
     "output_type": "stream",
     "text": [
      "Name = Rohan\n",
      "Name = Rohan\n"
     ]
    }
   ],
   "source": [
    "class student:\n",
    "    def studentdetails(self):\n",
    "        self.name = \"Rohan\"\n",
    "        print(\"Name =\",self.name)\n",
    "\n",
    "s1 = student()\n",
    "s1.studentdetails()\n",
    "student.studentdetails(s1)\n",
    "#whichever object is passed, it will be stored(treated) as self\n",
    "#self will hold the instance of the object till the lifespan of that object"
   ]
  },
  {
   "cell_type": "code",
   "execution_count": 9,
   "metadata": {},
   "outputs": [
    {
     "name": "stdout",
     "output_type": "stream",
     "text": [
      "Name = Rohan\n",
      "Percentage = 80\n",
      "Pass\n"
     ]
    }
   ],
   "source": [
    "class student:\n",
    "    passingpercentage = 40        #class attribute\n",
    "    def studentdetails(self):     #instance method\n",
    "        self.name = \"Rohan\"\n",
    "        print(\"Name =\",self.name)\n",
    "        self.percentage = 80\n",
    "        print(\"Percentage =\",self.percentage)\n",
    "    def studentresult(self):     #instance method\n",
    "        if self.percentage >= student.passingpercentage:\n",
    "            print(\"Pass\")\n",
    "        else:\n",
    "            print(\"Fail\")\n",
    "s1 = student()\n",
    "s1.studentdetails()\n",
    "s1.studentresult()\n"
   ]
  },
  {
   "cell_type": "markdown",
   "metadata": {},
   "source": [
    "### Static Method"
   ]
  },
  {
   "cell_type": "code",
   "execution_count": 11,
   "metadata": {},
   "outputs": [
    {
     "name": "stdout",
     "output_type": "stream",
     "text": [
      "Name = Rohan\n",
      "Percentage = 80\n",
      "Pass\n",
      "Hey! Welcome to School\n"
     ]
    }
   ],
   "source": [
    "class student:\n",
    "    passingpercentage = 40        #class attribute\n",
    "    \n",
    "    def studentdetails(self):     #instance method\n",
    "        self.name = \"Rohan\"       #instance attribute\n",
    "        print(\"Name =\",self.name)\n",
    "        self.percentage = 80\n",
    "        print(\"Percentage =\",self.percentage)\n",
    "    \n",
    "    def studentresult(self):     #instance method\n",
    "        if self.percentage >= student.passingpercentage:\n",
    "            print(\"Pass\")\n",
    "        else:\n",
    "            print(\"Fail\")\n",
    "            \n",
    "    def welcome():             #static method \n",
    "        print(\"Hey! Welcome to School\")\n",
    "s1 = student()\n",
    "s1.studentdetails()\n",
    "s1.studentresult()\n",
    "'''\n",
    "since welcome() is a static method and doesn't take any argument, the below line will throw an error\n",
    "s1.welcome()\n",
    "TypeError: welcome() takes 0 positional arguments but 1 was given\n",
    "So, we have to call the static method by means of class name itself\n",
    "                OR\n",
    "We can use the property deocrator as @staticmehtod and call the welcome() method by object name\n",
    "'''\n",
    "student.welcome()"
   ]
  },
  {
   "cell_type": "code",
   "execution_count": 13,
   "metadata": {},
   "outputs": [
    {
     "name": "stdout",
     "output_type": "stream",
     "text": [
      "Name = Rohan\n",
      "Percentage = 80\n",
      "Pass\n",
      "Hey! Welcome to School\n"
     ]
    }
   ],
   "source": [
    "class student:\n",
    "    passingpercentage = 40        #class attribute\n",
    "    \n",
    "    def studentdetails(self):     #instance method\n",
    "        self.name = \"Rohan\"\n",
    "        print(\"Name =\",self.name)\n",
    "        self.percentage = 80\n",
    "        print(\"Percentage =\",self.percentage)\n",
    "    \n",
    "    def studentresult(self):     #instance method\n",
    "        if self.percentage >= student.passingpercentage:\n",
    "            print(\"Pass\")\n",
    "        else:\n",
    "            print(\"Fail\")\n",
    "    @staticmethod      \n",
    "    def welcome():             #static method \n",
    "        print(\"Hey! Welcome to School\")\n",
    "s1 = student()\n",
    "s1.studentdetails()\n",
    "s1.studentresult()\n",
    "s1.welcome()\n",
    "#the @staticmehtod decorator stops the binding of the method with the object(self)  "
   ]
  },
  {
   "cell_type": "markdown",
   "metadata": {},
   "source": [
    "### __init__ method"
   ]
  },
  {
   "cell_type": "code",
   "execution_count": 18,
   "metadata": {},
   "outputs": [
    {
     "name": "stdout",
     "output_type": "stream",
     "text": [
      "{'name': 'abc', 'Rollno': 12}\n",
      "{'name': 'abc', 'Rollno': 12}\n"
     ]
    },
    {
     "data": {
      "text/plain": [
       "(<__main__.student at 0x21437793280>, <__main__.student at 0x214377939d0>)"
      ]
     },
     "execution_count": 18,
     "metadata": {},
     "output_type": "execute_result"
    }
   ],
   "source": [
    "#The moment when the object of the class is created, the __init__ methid will be fired\n",
    "class student:\n",
    "\n",
    "    def __init__(self):\n",
    "        self.name = \"abc\"\n",
    "        self.Rollno = 12\n",
    "\n",
    "s1 = student() \n",
    "print(s1.__dict__)\n",
    "s2 = student()\n",
    "print(s2.__dict__)\n",
    "s1,s2"
   ]
  },
  {
   "cell_type": "code",
   "execution_count": 19,
   "metadata": {},
   "outputs": [
    {
     "name": "stdout",
     "output_type": "stream",
     "text": [
      "{'name': 'Rohan', 'Rollno': 12}\n",
      "{'name': 'Pritam', 'Rollno': 13}\n"
     ]
    },
    {
     "data": {
      "text/plain": [
       "(<__main__.student at 0x21437793850>, <__main__.student at 0x2143778d490>)"
      ]
     },
     "execution_count": 19,
     "metadata": {},
     "output_type": "execute_result"
    }
   ],
   "source": [
    "class student:\n",
    "\n",
    "    def __init__(self,name,rollno):\n",
    "        self.name = name\n",
    "        self.Rollno = rollno\n",
    "\n",
    "s1 = student(\"Rohan\",12) \n",
    "print(s1.__dict__)\n",
    "s2 = student(\"Pritam\",13)\n",
    "print(s2.__dict__)\n",
    "s1,s2"
   ]
  },
  {
   "cell_type": "markdown",
   "metadata": {},
   "source": [
    "### Fraction Class"
   ]
  },
  {
   "cell_type": "code",
   "execution_count": 24,
   "metadata": {},
   "outputs": [
    {
     "name": "stdout",
     "output_type": "stream",
     "text": [
      "{'num': 2, 'den': 3}\n",
      "{'num': 2, 'den': 1}\n",
      "{'num': 0, 'den': 1}\n"
     ]
    }
   ],
   "source": [
    "class fraction:\n",
    "    def __init__(self,num = 0,den = 1): \n",
    "#here we are setting the default values for num and den, if the intergers are not passed it will use default values\n",
    "        self.num = num\n",
    "        self.den = den\n",
    "        \n",
    "f1 = fraction(2,3)\n",
    "print(f1.__dict__)\n",
    "f2 = fraction(2)\n",
    "print(f2.__dict__)\n",
    "f3 = fraction()\n",
    "print(f3.__dict__)"
   ]
  },
  {
   "cell_type": "code",
   "execution_count": 41,
   "metadata": {},
   "outputs": [
    {
     "name": "stdout",
     "output_type": "stream",
     "text": [
      "2 / 5\n",
      "1\n"
     ]
    }
   ],
   "source": [
    "class fraction:\n",
    "    def __init__(self,num = 0,den = 1): \n",
    "        if den == 0:\n",
    "            self.den = 1\n",
    "        self.num = num\n",
    "        self.den = den\n",
    "  \n",
    "    def printfraction(self):\n",
    "        \n",
    "        if self.num == 0:\n",
    "            print(0)\n",
    "        elif self.den == 1:\n",
    "            print(self.num)\n",
    "        else:\n",
    "            print(self.num, '/',self.den)\n",
    "            \n",
    "    def simplify(self):\n",
    "        if self.num == 0:\n",
    "            self.den = 1\n",
    "            return\n",
    "        current = min(self.num,self.den)\n",
    "        while current > 1:\n",
    "            if self.num % current == 0 and self.den % current ==0:\n",
    "                break\n",
    "            current -= 1\n",
    "        self.num //= current\n",
    "        self.den //= current\n",
    "        \n",
    "        \n",
    "    def addfraction(self,other):\n",
    "        \n",
    "        newnum = other.den * self.num + other.num * self.den\n",
    "        newden = other.den * self.den\n",
    "        #newfraction.simplify()\n",
    "        self.num = newnum\n",
    "        self.den = newden\n",
    "        \n",
    "    def multiply(self,other):\n",
    "        \n",
    "        newnum = self.num * other.num\n",
    "        newden = self.den * other.den\n",
    "        \n",
    "        self.num = newnum\n",
    "        self.den = newden\n",
    "        self.simplify()\n",
    "        \n",
    "\n",
    "f1 = fraction(2,5)\n",
    "f1.simplify()\n",
    "f1.printfraction()\n",
    "f2 = fraction(5,2)\n",
    "#f1.addfraction(f2)\n",
    "#f1.printfraction()\n",
    "f1.multiply(f2)\n",
    "f1.printfraction()"
   ]
  },
  {
   "cell_type": "markdown",
   "metadata": {},
   "source": [
    "### Types of Methods "
   ]
  },
  {
   "cell_type": "code",
   "execution_count": 21,
   "metadata": {},
   "outputs": [
    {
     "name": "stdout",
     "output_type": "stream",
     "text": [
      "67.66666666666667\n",
      "70.33333333333333\n",
      "abc\n",
      "this is class of student\n",
      "this is class of student\n",
      "this is class of student\n"
     ]
    }
   ],
   "source": [
    "class student:\n",
    "    \n",
    "    school = 'abc'                     #class variable\n",
    "    \n",
    "    def __init__(self,m1,m2,m3):       #m1,m2,m3:instance variables\n",
    "        self.m1 = m1\n",
    "        self.m2 = m2\n",
    "        self.m3 = m3\n",
    "        \n",
    "        \n",
    "    def avg(self):                                #instance method(method working for instance variables)\n",
    "        return ((self.m1 + self.m2 + self.m3)/3)\n",
    "    \n",
    "    \n",
    "    @classmethod                                     #Decorator\n",
    "    def getschool(cls):                                #class method(method working for class variables)\n",
    "        return cls.school\n",
    "    \n",
    "    \n",
    "    @staticmethod                                 \n",
    "    def info():                                        #static method  \n",
    "        print('this is class of student')\n",
    "      \n",
    "  \n",
    "s1 = student(64,67,72)\n",
    "s2 = student(51,68,92)\n",
    "\n",
    "print(s1.avg())\n",
    "print(s2.avg())\n",
    "print(student.getschool())\n",
    "student.info()\n",
    "s1.info()\n",
    "s2.info()\n",
    "\n",
    "     "
   ]
  },
  {
   "cell_type": "markdown",
   "metadata": {},
   "source": [
    "### Type Of Variables"
   ]
  },
  {
   "cell_type": "code",
   "execution_count": 22,
   "metadata": {},
   "outputs": [
    {
     "name": "stdout",
     "output_type": "stream",
     "text": [
      "Noida, UP\n"
     ]
    }
   ],
   "source": [
    "# Python program to show that we can create \n",
    "# instance variables inside methods\n",
    "\n",
    "# Class for Computer Science Student\n",
    "class CSStudent:\n",
    " \n",
    "    # Class Variable\n",
    "    stream = 'cse'\n",
    "    \n",
    "    # The init method or constructor\n",
    "    def __init__(self, roll):\n",
    "        \n",
    "        # Instance Variable\n",
    "        self.roll = roll\n",
    "\n",
    "    # Adds an instance variable \n",
    "    def setAddress(self, address):\n",
    "        self.address = address\n",
    "    \n",
    "    # Retrieves instance variable \n",
    "    def getAddress(self): \n",
    "        return self.address \n",
    "\n",
    "# Driver Code\n",
    "a = CSStudent(101)\n",
    "a.setAddress(\"Noida, UP\")\n",
    "print(a.getAddress()) \n"
   ]
  },
  {
   "cell_type": "code",
   "execution_count": null,
   "metadata": {},
   "outputs": [],
   "source": []
  }
 ],
 "metadata": {
  "kernelspec": {
   "display_name": "Python 3",
   "language": "python",
   "name": "python3"
  },
  "language_info": {
   "codemirror_mode": {
    "name": "ipython",
    "version": 3
   },
   "file_extension": ".py",
   "mimetype": "text/x-python",
   "name": "python",
   "nbconvert_exporter": "python",
   "pygments_lexer": "ipython3",
   "version": "3.8.5"
  }
 },
 "nbformat": 4,
 "nbformat_minor": 4
}
