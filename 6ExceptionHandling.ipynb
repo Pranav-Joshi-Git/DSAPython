{
 "cells": [
  {
   "cell_type": "code",
   "execution_count": 1,
   "metadata": {},
   "outputs": [
    {
     "name": "stdout",
     "output_type": "stream",
     "text": [
      "Enter Numerator: abc\n"
     ]
    },
    {
     "ename": "ValueError",
     "evalue": "invalid literal for int() with base 10: 'abc'",
     "output_type": "error",
     "traceback": [
      "\u001b[1;31m---------------------------------------------------------------------------\u001b[0m",
      "\u001b[1;31mValueError\u001b[0m                                Traceback (most recent call last)",
      "\u001b[1;32m<ipython-input-1-fdd52c7f8c54>\u001b[0m in \u001b[0;36m<module>\u001b[1;34m\u001b[0m\n\u001b[0;32m      1\u001b[0m \u001b[0mn\u001b[0m \u001b[1;33m=\u001b[0m \u001b[0minput\u001b[0m\u001b[1;33m(\u001b[0m\u001b[1;34m\"Enter Numerator: \"\u001b[0m\u001b[1;33m)\u001b[0m\u001b[1;33m\u001b[0m\u001b[1;33m\u001b[0m\u001b[0m\n\u001b[1;32m----> 2\u001b[1;33m \u001b[0mnum\u001b[0m \u001b[1;33m=\u001b[0m \u001b[0mint\u001b[0m\u001b[1;33m(\u001b[0m\u001b[0mn\u001b[0m\u001b[1;33m)\u001b[0m\u001b[1;33m\u001b[0m\u001b[1;33m\u001b[0m\u001b[0m\n\u001b[0m\u001b[0;32m      3\u001b[0m \u001b[0md\u001b[0m \u001b[1;33m=\u001b[0m \u001b[0minput\u001b[0m\u001b[1;33m(\u001b[0m\u001b[1;34m\"Enter Denominator: \"\u001b[0m\u001b[1;33m)\u001b[0m\u001b[1;33m\u001b[0m\u001b[1;33m\u001b[0m\u001b[0m\n\u001b[0;32m      4\u001b[0m \u001b[0mden\u001b[0m \u001b[1;33m=\u001b[0m \u001b[0mint\u001b[0m\u001b[1;33m(\u001b[0m\u001b[0md\u001b[0m\u001b[1;33m)\u001b[0m\u001b[1;33m\u001b[0m\u001b[1;33m\u001b[0m\u001b[0m\n\u001b[0;32m      5\u001b[0m \u001b[0mresult\u001b[0m \u001b[1;33m=\u001b[0m \u001b[0mnum\u001b[0m\u001b[1;33m/\u001b[0m\u001b[0mden\u001b[0m\u001b[1;33m\u001b[0m\u001b[1;33m\u001b[0m\u001b[0m\n",
      "\u001b[1;31mValueError\u001b[0m: invalid literal for int() with base 10: 'abc'"
     ]
    }
   ],
   "source": [
    "n = input(\"Enter Numerator: \")\n",
    "num = int(n)\n",
    "d = input(\"Enter Denominator: \")\n",
    "den = int(d)\n",
    "result = num/den\n",
    "print(\"Result: \",result)"
   ]
  },
  {
   "cell_type": "code",
   "execution_count": null,
   "metadata": {},
   "outputs": [],
   "source": [
    "n = input(\"Enter Numerator: \")\n",
    "num = int(n)\n",
    "d = input(\"Enter Denominator: \")\n",
    "den = int(d)\n",
    "result = num/den\n",
    "print(\"Result: \",result)"
   ]
  },
  {
   "cell_type": "markdown",
   "metadata": {},
   "source": [
    "### Handling ValueError"
   ]
  },
  {
   "cell_type": "code",
   "execution_count": 2,
   "metadata": {},
   "outputs": [
    {
     "name": "stdout",
     "output_type": "stream",
     "text": [
      "Enter Numerator: 12\n",
      "Enter Denominator: pranav\n",
      "Numerator and Denominator should be integers!!\n"
     ]
    }
   ],
   "source": [
    "try:\n",
    "    n = input(\"Enter Numerator: \")\n",
    "    num = int(n)\n",
    "    d = input(\"Enter Denominator: \")\n",
    "    den = int(d)\n",
    "    result = num/den\n",
    "    print(\"Result: \",result)\n",
    "    \n",
    "except ValueError:\n",
    "    print(\"Numerator and Denominator should be integers!!\")"
   ]
  },
  {
   "cell_type": "code",
   "execution_count": 3,
   "metadata": {},
   "outputs": [
    {
     "name": "stdout",
     "output_type": "stream",
     "text": [
      "Enter Numerator: 10\n",
      "Enter Denominator: asd\n",
      "Numerator and Denominator should be integers!!\n",
      "Enter Numerator: asdfreuh\n",
      "Numerator and Denominator should be integers!!\n",
      "Enter Numerator: 10\n",
      "Enter Denominator: 5\n",
      "Result:  2.0\n"
     ]
    }
   ],
   "source": [
    "while True:\n",
    "    try:\n",
    "        n = input(\"Enter Numerator: \")\n",
    "        num = int(n)\n",
    "        d = input(\"Enter Denominator: \")\n",
    "        den = int(d)\n",
    "        result = num/den\n",
    "        print(\"Result: \",result)\n",
    "        break\n",
    "    except ValueError:\n",
    "        print(\"Numerator and Denominator should be integers!!\")"
   ]
  },
  {
   "cell_type": "markdown",
   "metadata": {},
   "source": [
    "### Handling Multiple Exceptions "
   ]
  },
  {
   "cell_type": "code",
   "execution_count": 4,
   "metadata": {},
   "outputs": [
    {
     "name": "stdout",
     "output_type": "stream",
     "text": [
      "Enter Numerator: 10\n",
      "Enter Denominator: 2\n",
      "Result:  5.0\n"
     ]
    }
   ],
   "source": [
    "while True:\n",
    "    try:\n",
    "        n = input(\"Enter Numerator: \")\n",
    "        num = int(n)\n",
    "        d = input(\"Enter Denominator: \")\n",
    "        den = int(d)\n",
    "        result = num/den\n",
    "        print(\"Result: \",result)\n",
    "        break\n",
    "    except ValueError:\n",
    "        print(\"Numerator and Denominator should be integers!!\")"
   ]
  },
  {
   "cell_type": "code",
   "execution_count": 6,
   "metadata": {},
   "outputs": [
    {
     "name": "stdout",
     "output_type": "stream",
     "text": [
      "Enter Numerator: 10\n",
      "Enter Denominator: 0\n",
      "Denominator can't be Zero!\n",
      "Enter Numerator: 12\n",
      "Enter Denominator: 6\n",
      "Result:  2.0\n"
     ]
    }
   ],
   "source": [
    "while True:\n",
    "    \n",
    "    try:\n",
    "        n = input(\"Enter Numerator: \")\n",
    "        num = int(n)\n",
    "        d = input(\"Enter Denominator: \")\n",
    "        den = int(d)\n",
    "        result = num/den\n",
    "        print(\"Result: \",result)\n",
    "        break\n",
    "    \n",
    "    except ValueError:\n",
    "        print(\"Numerator and Denominator should be integers!!\")\n",
    "    \n",
    "    except ZeroDivisionError:\n",
    "        print(\"Denominator can't be Zero!\")"
   ]
  },
  {
   "cell_type": "code",
   "execution_count": 7,
   "metadata": {},
   "outputs": [
    {
     "name": "stdout",
     "output_type": "stream",
     "text": [
      "Enter Numerator: 10\n",
      "Enter Denominator: asd\n",
      "Numerator and Denominator should be integers and Denominator can't be Zero!\n",
      "Enter Numerator: 10\n",
      "Enter Denominator: 0\n",
      "Numerator and Denominator should be integers and Denominator can't be Zero!\n",
      "Enter Numerator: 15\n",
      "Enter Denominator: 6\n",
      "Result:  2.5\n"
     ]
    }
   ],
   "source": [
    "while True:\n",
    "    \n",
    "    try:\n",
    "        n = input(\"Enter Numerator: \")\n",
    "        num = int(n)\n",
    "        d = input(\"Enter Denominator: \")\n",
    "        den = int(d)\n",
    "        result = num/den\n",
    "        print(\"Result: \",result)\n",
    "        break\n",
    "    \n",
    "    except (ValueError,ZeroDivisionError):\n",
    "        print(\"Numerator and Denominator should be integers and Denominator can't be Zero!\")\n",
    "    \n",
    "    "
   ]
  },
  {
   "cell_type": "markdown",
   "metadata": {},
   "source": [
    "### Handling Custom Exceptions"
   ]
  },
  {
   "cell_type": "code",
   "execution_count": null,
   "metadata": {},
   "outputs": [],
   "source": [
    "while True:\n",
    "    \n",
    "    try:\n",
    "        n = input(\"Enter Numerator: \")\n",
    "        num = int(n)\n",
    "        d = input(\"Enter Denominator: \")\n",
    "        den = int(d)\n",
    "        if den == 0:\n",
    "            raise ZeroDivisionError\n",
    "        result = num/den\n",
    "        print(\"Result: \",result)\n",
    "        break\n",
    "    \n",
    "    except ValueError:\n",
    "        print(\"Numerator and Denominator should be integers!!\")\n",
    "    \n",
    "    except ZeroDivisionError:\n",
    "        print(\"Denominator can't be Zero!\")"
   ]
  },
  {
   "cell_type": "markdown",
   "metadata": {},
   "source": [
    "### Python Exception Class "
   ]
  },
  {
   "cell_type": "code",
   "execution_count": null,
   "metadata": {},
   "outputs": [],
   "source": [
    "'''\n",
    "In Python, all exceptions must be instances of a class that derives from BaseException . \n",
    "In a try statement with an except clause that mentions a particular class, \n",
    "that clause also handles any exception classes derived from that class (but not exception classes from which it is derived).\n",
    "'''"
   ]
  },
  {
   "cell_type": "code",
   "execution_count": null,
   "metadata": {},
   "outputs": [],
   "source": [
    "class ZeroDenominatorError(Exception):  #Building our own custom exception\n",
    "    pass\n",
    "while True:\n",
    "    \n",
    "    try:\n",
    "        n = input(\"Enter Numerator: \")\n",
    "        num = int(n)\n",
    "        d = input(\"Enter Denominator: \")\n",
    "        den = int(d)\n",
    "        if den == 0:\n",
    "            raise ZeroDenominatorError(\"Denominator Can't be Zero!\")\n",
    "        result = num/den\n",
    "        print(\"Result: \",result)\n",
    "        break\n",
    "    \n",
    "    except ValueError:\n",
    "        print(\"Numerator and Denominator should be integers!!\")\n",
    "    \n",
    "    except ZeroDivisionError:\n",
    "        print(\"Division by zero is not allowed\")\n"
   ]
  },
  {
   "cell_type": "code",
   "execution_count": null,
   "metadata": {},
   "outputs": [],
   "source": [
    "class ZeroDenominatorError(Exception):\n",
    "    pass\n",
    "while True:\n",
    "    \n",
    "    try:\n",
    "        n = input(\"Enter Numerator: \")\n",
    "        num = int(n)\n",
    "        d = input(\"Enter Denominator: \")\n",
    "        den = int(d)\n",
    "        if den == 0:\n",
    "            raise ZeroDenominatorError(\"Denominator Can't be Zero!\")\n",
    "        result = num/den\n",
    "        print(\"Result: \",result)\n",
    "        break\n",
    "    \n",
    "    except ValueError:\n",
    "        print(\"Numerator and Denominator should be integers!!\")\n",
    "    \n",
    "    except ZeroDivisionError:\n",
    "        print(\"Division by zero is not allowed\")\n",
    "    \n",
    "    except ZeroDenominatorError:\n",
    "        print(\"ZeroDenominatorError has raised!\")"
   ]
  },
  {
   "cell_type": "code",
   "execution_count": null,
   "metadata": {},
   "outputs": [],
   "source": [
    "#ZeroDenominatorError has raised!"
   ]
  },
  {
   "cell_type": "code",
   "execution_count": null,
   "metadata": {},
   "outputs": [],
   "source": [
    "class ZeroDenominatorError(ZeroDivisionError):\n",
    "    pass\n",
    "while True:\n",
    "    \n",
    "    try:\n",
    "        n = input(\"Enter Numerator: \")\n",
    "        num = int(n)\n",
    "        d = input(\"Enter Denominator: \")\n",
    "        den = int(d)\n",
    "        if den == 0:\n",
    "            raise ZeroDenominatorError(\"Denominator Can't be Zero!\")\n",
    "        result = num/den\n",
    "        print(\"Result: \",result)\n",
    "        break\n",
    "    \n",
    "    except ValueError:\n",
    "        print(\"Numerator and Denominator should be integers!!\")\n",
    "    \n",
    "    except ZeroDivisionError:\n",
    "        print(\"Division by zero is not allowed\")\n",
    "    \n",
    "    except ZeroDenominatorError:\n",
    "        print(\"ZeroDenominatorError has raised!\")"
   ]
  },
  {
   "cell_type": "code",
   "execution_count": null,
   "metadata": {},
   "outputs": [],
   "source": [
    "#Division by zero is not allowed, because we have inherited from ZeroDivisionError class\n",
    "'''\n",
    "As ZeroDenominatorError is inheriting ZeroDivisionError class,\n",
    "which means:\n",
    "every ZeroDenominatorError is a ZeroDivisionError\n",
    "'''"
   ]
  },
  {
   "cell_type": "code",
   "execution_count": null,
   "metadata": {},
   "outputs": [],
   "source": [
    "class ZeroDenominatorError(ZeroDivisionError):\n",
    "    pass\n",
    "while True:\n",
    "    \n",
    "    try:\n",
    "        n = input(\"Enter Numerator: \")\n",
    "        num = int(n)\n",
    "        d = input(\"Enter Denominator: \")\n",
    "        den = int(d)\n",
    "        if den == 0:\n",
    "            raise ZeroDenominatorError(\"Denominator Can't be Zero!\")\n",
    "        result = num/den\n",
    "        print(\"Result: \",result)\n",
    "        break\n",
    "    \n",
    "    except ValueError:\n",
    "        print(\"Numerator and Denominator should be integers!!\")\n",
    "    \n",
    "    except ZeroDenominatorError:\n",
    "        print(\"ZeroDenominatorError has raised!\")\n",
    "    \n",
    "    except ZeroDivisionError:\n",
    "        print(\"Division by zero is not allowed\")\n",
    "    \n",
    "    "
   ]
  },
  {
   "cell_type": "code",
   "execution_count": null,
   "metadata": {},
   "outputs": [],
   "source": [
    "# ZeroDenominatorError has raised! beacuse we have changed the order"
   ]
  },
  {
   "cell_type": "code",
   "execution_count": null,
   "metadata": {},
   "outputs": [],
   "source": [
    "class ZeroDenominatorError(ZeroDivisionError):\n",
    "    pass\n",
    "while True:\n",
    "    \n",
    "    try:\n",
    "        n = input(\"Enter Numerator: \")\n",
    "        num = int(n)\n",
    "        d = input(\"Enter Denominator: \")\n",
    "        den = int(d)\n",
    "        if den == 0:\n",
    "            raise ZeroDenominatorError(\"Denominator Can't be Zero!\")\n",
    "        result = num/den\n",
    "        print(\"Result: \",result)\n",
    "        break\n",
    "    \n",
    "    except ValueError:\n",
    "        print(\"Numerator and Denominator should be integers!!\")\n",
    "    \n",
    "    except ZeroDenominatorError:\n",
    "        print(\"ZeroDenominatorError has raised!\")\n",
    "        \n",
    "    except:\n",
    "        print(\"Some Error has occured\")\n",
    "    \n",
    "    except ZeroDivisionError:\n",
    "        print(\"Division by zero is not allowed\")\n",
    "    \n",
    "    "
   ]
  },
  {
   "cell_type": "code",
   "execution_count": null,
   "metadata": {},
   "outputs": [],
   "source": [
    "'''as per the functionality of the except\n",
    "default 'except:' must be defined at last'''"
   ]
  },
  {
   "cell_type": "code",
   "execution_count": 8,
   "metadata": {},
   "outputs": [
    {
     "name": "stdout",
     "output_type": "stream",
     "text": [
      "Enter Numerator: 10\n",
      "Enter Denominator: 0\n",
      "ZeroDenominatorError has raised!\n",
      "Thank You!\n",
      "Enter Numerator: 10\n",
      "Enter Denominator: 2\n",
      "No Error has occured\n",
      "Result:  5.0\n",
      "Thank You!\n"
     ]
    }
   ],
   "source": [
    "class ZeroDenominatorError(ZeroDivisionError):\n",
    "    pass \n",
    "while True:\n",
    "    \n",
    "    try:\n",
    "        n = input(\"Enter Numerator: \")\n",
    "        num = int(n)\n",
    "        d = input(\"Enter Denominator: \")\n",
    "        den = int(d)\n",
    "        if den == 0:\n",
    "            raise ZeroDenominatorError(\"Denominator Can't be Zero!\")\n",
    "        result = num/den\n",
    "        \n",
    "    except ValueError:\n",
    "        print(\"Numerator and Denominator should be integers!!\")\n",
    "    \n",
    "    except ZeroDenominatorError:\n",
    "        print(\"ZeroDenominatorError has raised!\")\n",
    "        \n",
    "    except ZeroDivisionError:\n",
    "        print(\"Division by zero is not allowed\")\n",
    "        \n",
    "    except:\n",
    "        print(\"Some Error has occured\")\n",
    "    \n",
    "    else:\n",
    "        print(\"No Error has occured\")\n",
    "        print(\"Result: \",result)\n",
    "        break\n",
    "    \n",
    "        #if none of the error is triggered, else block will be executed\n",
    "    finally:\n",
    "        print(\"Thank You!\")\n",
    "        #finally will get excuted even if the exception is raised or isn't raised\n",
    "    \n",
    "    "
   ]
  },
  {
   "cell_type": "code",
   "execution_count": null,
   "metadata": {},
   "outputs": [],
   "source": []
  }
 ],
 "metadata": {
  "kernelspec": {
   "display_name": "Python 3",
   "language": "python",
   "name": "python3"
  },
  "language_info": {
   "codemirror_mode": {
    "name": "ipython",
    "version": 3
   },
   "file_extension": ".py",
   "mimetype": "text/x-python",
   "name": "python",
   "nbconvert_exporter": "python",
   "pygments_lexer": "ipython3",
   "version": "3.8.5"
  }
 },
 "nbformat": 4,
 "nbformat_minor": 4
}
