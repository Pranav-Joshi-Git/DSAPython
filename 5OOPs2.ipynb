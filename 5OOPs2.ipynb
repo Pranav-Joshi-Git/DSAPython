{
 "cells": [
  {
   "cell_type": "markdown",
   "metadata": {},
   "source": [
    "### Inheritance "
   ]
  },
  {
   "cell_type": "code",
   "execution_count": null,
   "metadata": {},
   "outputs": [],
   "source": [
    "'''\n",
    "Inheritance is the capability of one class to derive or inherit the properties from another class. \n",
    "The benefits of inheritance are: \n",
    " \n",
    "1.It represents real-world relationships well.\n",
    "\n",
    "2.It provides reusability of a code. We don’t have to write the same code again and again. \n",
    "Also, it allows us to add more features to a class without modifying it.\n",
    "\n",
    "3.It is transitive in nature, which means that if class B inherits from another class A, \n",
    "then all the subclasses of B would automatically inherit from class A.\n",
    "'''"
   ]
  },
  {
   "cell_type": "code",
   "execution_count": 11,
   "metadata": {},
   "outputs": [
    {
     "name": "stdout",
     "output_type": "stream",
     "text": [
      "Color: Red\n",
      "Maximum Speed: 220\n",
      "Convertible or Not?: True\n",
      "Number of Gears: 5\n"
     ]
    }
   ],
   "source": [
    "class vehicle:\n",
    "    \n",
    "    def __init__(self,color,maxspeed):\n",
    "        self.color = color\n",
    "        self.maxspeed = maxspeed\n",
    "    \n",
    "\n",
    "class car(vehicle):\n",
    "   \n",
    "    def __init__(self,color,maxspeed,isConvertible,numGears):\n",
    "            super().__init__(color,maxspeed)\n",
    "            self.isConvertible = isConvertible\n",
    "            self.numGears = numGears\n",
    "            \n",
    "    def displayCar(self):\n",
    "        print(\"Color:\",self.color)\n",
    "        print(\"Maximum Speed:\",self.maxspeed)\n",
    "        print(\"Convertible or Not?:\",self.isConvertible)\n",
    "        print(\"Number of Gears:\",self.numGears)\n",
    "        \n",
    "c1 = car(\"Red\",220,True,5)\n",
    "c1.displayCar()"
   ]
  },
  {
   "cell_type": "code",
   "execution_count": 20,
   "metadata": {},
   "outputs": [
    {
     "name": "stdout",
     "output_type": "stream",
     "text": [
      "Color:  Red\n",
      "MaxSpeed:  220\n",
      "Convertible or Not?: True\n",
      "Number of Gears: 5\n"
     ]
    }
   ],
   "source": [
    "class vehicle:\n",
    "    \n",
    "    def __init__(self,color,maxspeed):\n",
    "        self.color = color\n",
    "        self.__maxspeed = maxspeed        #here we made maxspeed varible as private\n",
    "        \n",
    "    def getmaxspeed(self):                #we have defined a method to get access to maxspeed\n",
    "        return self.__maxspeed\n",
    "    \n",
    "    def setmaxspeed(self,maxspeed):\n",
    "        self.__maxspeed = maxspeed\n",
    "        \n",
    "    def display(self):\n",
    "        print(\"Color: \",self.color)\n",
    "        print(\"MaxSpeed: \",self.getmaxspeed())\n",
    "    \n",
    "\n",
    "class car(vehicle):\n",
    "   \n",
    "    def __init__(self,color,maxspeed,isConvertible,numGears):\n",
    "            super().__init__(color,maxspeed)\n",
    "            self.isConvertible = isConvertible\n",
    "            self.numGears = numGears\n",
    "            \n",
    "    def display(self):\n",
    "        super().display()                    \n",
    "        print(\"Convertible or Not?:\",self.isConvertible)\n",
    "        print(\"Number of Gears:\",self.numGears)\n",
    "        \n",
    "c1 = car(\"Red\",220,True,5)\n",
    "c1.display()"
   ]
  },
  {
   "cell_type": "markdown",
   "metadata": {},
   "source": [
    "### Polymorphism"
   ]
  },
  {
   "cell_type": "code",
   "execution_count": null,
   "metadata": {},
   "outputs": [],
   "source": [
    "'''\n",
    "The word polymorphism means having many forms. In programming, \n",
    "polymorphism means the same function name (but different signatures) being used for different types.\n",
    "'''"
   ]
  },
  {
   "cell_type": "markdown",
   "metadata": {},
   "source": [
    "### Method Overriding"
   ]
  },
  {
   "cell_type": "code",
   "execution_count": null,
   "metadata": {},
   "outputs": [],
   "source": [
    "'''\n",
    "Method overriding is an ability of any object-oriented programming language \n",
    "that allows a subclass or child class to provide a specific implementation \n",
    "of a method that is already provided by one of its super-classes or parent \n",
    "classes. When a method in a subclass has the same name, same parameters or \n",
    "signature and same return type(or sub-type) as a method in its super-class, \n",
    "then the method in the subclass is said to override the method in the \n",
    "super-class.\n",
    "'''"
   ]
  },
  {
   "cell_type": "code",
   "execution_count": 23,
   "metadata": {},
   "outputs": [
    {
     "name": "stdout",
     "output_type": "stream",
     "text": [
      "Inside Parent\n",
      "Inside Child\n"
     ]
    }
   ],
   "source": [
    "# Python program to demonstrate\n",
    "# method overriding\n",
    "\n",
    "\n",
    "# Defining parent class\n",
    "class Parent():\n",
    "\n",
    "    # Constructor\n",
    "    def __init__(self):\n",
    "        self.value = \"Inside Parent\"\n",
    "        \n",
    "    # Parent's show method\n",
    "    def show(self):\n",
    "        print(self.value)\n",
    "        \n",
    "# Defining child class\n",
    "class Child(Parent):\n",
    "    \n",
    "    # Constructor\n",
    "    def __init__(self):\n",
    "        self.value = \"Inside Child\"\n",
    "        \n",
    "    # Child's show method\n",
    "    def show(self):\n",
    "        print(self.value)\n",
    "        \n",
    "        \n",
    "# Driver's code\n",
    "obj1 = Parent()\n",
    "obj2 = Child()\n",
    "\n",
    "obj1.show()\n",
    "obj2.show()\n"
   ]
  },
  {
   "cell_type": "markdown",
   "metadata": {},
   "source": [
    "### Access Modifiers : Public, Protected and Private"
   ]
  },
  {
   "cell_type": "markdown",
   "metadata": {},
   "source": [
    "#### Public Access Modifier"
   ]
  },
  {
   "cell_type": "code",
   "execution_count": null,
   "metadata": {},
   "outputs": [],
   "source": [
    "'''\n",
    "The members of a class that are declared public are easily accessible from any part of the program. \n",
    "All data members and member functions of a class are public by default. \n",
    "'''"
   ]
  },
  {
   "cell_type": "code",
   "execution_count": 25,
   "metadata": {},
   "outputs": [
    {
     "name": "stdout",
     "output_type": "stream",
     "text": [
      "Name:  Pranav\n",
      "Age:  20\n",
      "Name:  Pranav\n",
      "Age:  20\n"
     ]
    }
   ],
   "source": [
    "# program to illustrate public access modifier in a class\n",
    "\n",
    "class student:\n",
    "    \n",
    "    # constructor\n",
    "    def __init__(self, name, age):\n",
    "        \n",
    "        # public data members\n",
    "        self.studentName = name\n",
    "        self.studentAge = age\n",
    "\n",
    "    # public member function\n",
    "    def display(self):\n",
    "        \n",
    "        # accessing public data member\n",
    "        print(\"Name: \",self.studentName)\n",
    "        print(\"Age: \", self.studentAge)\n",
    "\n",
    "# creating object of the class\n",
    "obj = student(\"Pranav\", 20)\n",
    "\n",
    "# accessing public data member\n",
    "print(\"Name: \", obj.studentName)\n",
    "print(\"Age: \", obj.studentAge)\n",
    "\n",
    "\n",
    "# calling public member function of the class\n",
    "obj.display()\n"
   ]
  },
  {
   "cell_type": "markdown",
   "metadata": {},
   "source": [
    "#### Protected Access Modifier "
   ]
  },
  {
   "cell_type": "code",
   "execution_count": null,
   "metadata": {},
   "outputs": [],
   "source": [
    "'''\n",
    "The members of a class that are declared protected are only accessible to a class derived from it. \n",
    "Data members of a class are declared protected by adding a single underscore ‘_’ symbol before the data member of that class. \n",
    "'''"
   ]
  },
  {
   "cell_type": "code",
   "execution_count": 2,
   "metadata": {},
   "outputs": [
    {
     "name": "stdout",
     "output_type": "stream",
     "text": [
      "Name:  Pranav\n",
      "Roll:  1706256\n",
      "Branch:  Information Technology\n"
     ]
    }
   ],
   "source": [
    "# program to illustrate protected access modifier in a class\n",
    "\n",
    "# super class\n",
    "class Student:\n",
    "    \n",
    "    _name = None\n",
    "    _roll = None\n",
    "    _branch = None\n",
    "    \n",
    "    # constructor\n",
    "    def __init__(self, name, roll, branch):\n",
    "        # protected data members\n",
    "        self._name = name\n",
    "        self._roll = roll\n",
    "        self._branch = branch\n",
    "\n",
    "    # protected member function\n",
    "    def _displayRollAndBranch(self):\n",
    "\n",
    "        # accessing protected data members\n",
    "        print(\"Roll: \", self._roll)\n",
    "        print(\"Branch: \", self._branch)\n",
    "\n",
    "\n",
    "# derived class\n",
    "class Geek(Student):\n",
    "\n",
    "    # constructor\n",
    "    def __init__(self, name, roll, branch):\n",
    "                Student.__init__(self, name, roll, branch)\n",
    "        \n",
    "    # public member function\n",
    "    def displayDetails(self):\n",
    "                \n",
    "                # accessing protected data members of super class\n",
    "                print(\"Name: \", self._name)\n",
    "                \n",
    "                # accessing protected member functions of super class\n",
    "                self._displayRollAndBranch()\n",
    "\n",
    "# creating objects of the derived class\t\n",
    "obj = Geek(\"Pranav\", 1706256, \"Information Technology\")\n",
    "\n",
    "# calling public member functions of the class\n",
    "obj.displayDetails()\n",
    "\n",
    "\n"
   ]
  },
  {
   "cell_type": "markdown",
   "metadata": {},
   "source": [
    "#### Private Access Modifiers"
   ]
  },
  {
   "cell_type": "code",
   "execution_count": null,
   "metadata": {},
   "outputs": [],
   "source": [
    "'''\n",
    "The members of a class that are declared private are accessible within the class only, \n",
    "private access modifier is the most secure access modifier. \n",
    "Data members of a class are declared private by adding a double underscore ‘__’ symbol before the data member of that class. \n",
    "'''"
   ]
  },
  {
   "cell_type": "code",
   "execution_count": 29,
   "metadata": {},
   "outputs": [
    {
     "name": "stdout",
     "output_type": "stream",
     "text": [
      "Name:  Pranav\n",
      "Roll:  1706256\n",
      "Branch:  Information Technology\n"
     ]
    }
   ],
   "source": [
    "# program to illustrate private access modifier in a class\n",
    "\n",
    "class Geek:\n",
    "    \n",
    "    # private members\n",
    "    __name = None\n",
    "    __roll = None\n",
    "    __branch = None\n",
    "\n",
    "    # constructor\n",
    "    def __init__(self, name, roll, branch):\n",
    "        self.__name = name\n",
    "        self.__roll = roll\n",
    "        self.__branch = branch\n",
    "\n",
    "    # private member function\n",
    "    def __displayDetails(self):\n",
    "        \n",
    "        # accessing private data members\n",
    "        print(\"Name: \", self.__name)\n",
    "        print(\"Roll: \", self.__roll)\n",
    "        print(\"Branch: \", self.__branch)\n",
    "    \n",
    "    # public member function\n",
    "    def accessPrivateFunction(self):\n",
    "            \n",
    "        # accesing private member function\n",
    "        self.__displayDetails()\n",
    "\n",
    "# creating object\n",
    "obj = Geek(\"Pranav\", 1706256, \"Information Technology\")\n",
    "\n",
    "# calling public member function of the class\n",
    "obj.accessPrivateFunction()\n"
   ]
  },
  {
   "cell_type": "markdown",
   "metadata": {},
   "source": [
    "#### Name Mangling"
   ]
  },
  {
   "cell_type": "code",
   "execution_count": null,
   "metadata": {},
   "outputs": [],
   "source": [
    "'''\n",
    "In name mangling process any identifier with two leading underscore and one trailing underscore \n",
    "is textually replaced with _classname__identifier where classname is the name of the current class. \n",
    "It means that any identifier of the form __geek (at least two leading underscores or at most one trailing underscore) \n",
    "is replaced with _classname__geek, where classname is the current class name with leading underscore(s) stripped.\n",
    "'''"
   ]
  },
  {
   "cell_type": "code",
   "execution_count": 31,
   "metadata": {},
   "outputs": [
    {
     "name": "stdout",
     "output_type": "stream",
     "text": [
      "Pranav\n"
     ]
    }
   ],
   "source": [
    "# Python program to demonstrate\n",
    "# name mangling\n",
    "\n",
    "\n",
    "class Student:\n",
    "    def __init__(self, name):\n",
    "        self.__name = name\n",
    "\n",
    "s1 = Student(\"Pranav\")\n",
    "print(s1._Student__name)\n"
   ]
  },
  {
   "cell_type": "markdown",
   "metadata": {},
   "source": [
    "### Getter and Setter Methods"
   ]
  },
  {
   "cell_type": "code",
   "execution_count": null,
   "metadata": {},
   "outputs": [],
   "source": [
    "'''\n",
    "Basically, the main purpose of using getters and setters in object-oriented programs is to ensure data ENCAPSULATION. \n",
    "Private variables in python are not actually hidden fields like in other object oriented languages. \n",
    "Getters and Setters in python are often used when:\n",
    "\n",
    "We use getters & setters to add validation logic around getting and setting a value.\n",
    "To avoid direct access of a class field i.e. private variables cannot be accessed directly or modified by external user.\n",
    "'''"
   ]
  },
  {
   "cell_type": "code",
   "execution_count": 30,
   "metadata": {},
   "outputs": [
    {
     "name": "stdout",
     "output_type": "stream",
     "text": [
      "Color: Red\n",
      "Maximum Speed: 220\n",
      "Convertible or Not?: True\n",
      "Number of Gears: 5\n"
     ]
    }
   ],
   "source": [
    "class vehicle:\n",
    "    \n",
    "    def __init__(self,color,maxspeed):\n",
    "        self.color = color\n",
    "        self.__maxspeed = maxspeed        #here we made maxspeed varible as private\n",
    "        \n",
    "    def getmaxspeed(self):                #we have defined a method to get access to maxspeed\n",
    "        return self.__maxspeed\n",
    "    \n",
    "    def setmaxspeed(self,maxspeed):\n",
    "        self.__maxspeed = maxspeed\n",
    "    \n",
    "\n",
    "class car(vehicle):\n",
    "   \n",
    "    def __init__(self,color,maxspeed,isConvertible,numGears):\n",
    "            super().__init__(color,maxspeed)\n",
    "            self.isConvertible = isConvertible\n",
    "            self.numGears = numGears\n",
    "            \n",
    "    def displayCar(self):\n",
    "        print(\"Color:\",self.color)\n",
    "        print(\"Maximum Speed:\",self.getmaxspeed())\n",
    "        print(\"Convertible or Not?:\",self.isConvertible)\n",
    "        print(\"Number of Gears:\",self.numGears)\n",
    "        \n",
    "c1 = car(\"Red\",220,True,5)\n",
    "c1.displayCar()"
   ]
  },
  {
   "cell_type": "markdown",
   "metadata": {},
   "source": [
    "### Object Class in python"
   ]
  },
  {
   "cell_type": "code",
   "execution_count": null,
   "metadata": {},
   "outputs": [],
   "source": [
    "'''\n",
    "whenever we define any class in python,it inherits the Object class.\n",
    "e.g. \n",
    "class circle:\n",
    "which means as\n",
    "class circle(objcet):\n",
    "and object class provides three methods to every class i.e.\n",
    "__new__,__init__,__str__\n",
    "\n",
    "'''"
   ]
  },
  {
   "cell_type": "code",
   "execution_count": 33,
   "metadata": {
    "scrolled": true
   },
   "outputs": [
    {
     "name": "stdout",
     "output_type": "stream",
     "text": [
      "<__main__.circle object at 0x00000212B80F5160>\n"
     ]
    }
   ],
   "source": [
    "class circle(object):\n",
    "    def __init__(self,radius):\n",
    "        self.radius = radius\n",
    "    \n",
    "c = circle(3)\n",
    "print(c)\n",
    "#whenever we write print(c), by default __str__ method of the object class is called(which prints the address of object)"
   ]
  },
  {
   "cell_type": "code",
   "execution_count": 34,
   "metadata": {},
   "outputs": [
    {
     "name": "stdout",
     "output_type": "stream",
     "text": [
      "This is a circle class with radius as an argument\n"
     ]
    }
   ],
   "source": [
    "class circle(object):\n",
    "    def __init__(self,radius):\n",
    "        self.radius = radius\n",
    "        \n",
    "    def __str__(self):  #Here we are explicitly overriding the __str__ method\n",
    "        return \"This is a circle class with radius as an argument\"\n",
    "    \n",
    "c = circle(3)\n",
    "print(c)"
   ]
  },
  {
   "cell_type": "code",
   "execution_count": null,
   "metadata": {},
   "outputs": [],
   "source": [
    "'''\n",
    "TYPES OF INHERITANCE:\n",
    "1. SINGLE INHERITANCE\n",
    "2. MULTIPLE INHERITANCE\n",
    "3. MULTILEVEL INHERITANCE \n",
    "'''"
   ]
  },
  {
   "cell_type": "markdown",
   "metadata": {},
   "source": [
    "### Multiple Inheritance"
   ]
  },
  {
   "cell_type": "code",
   "execution_count": 36,
   "metadata": {},
   "outputs": [
    {
     "name": "stdout",
     "output_type": "stream",
     "text": [
      "Name: Rohan\n",
      "In Father Class\n"
     ]
    }
   ],
   "source": [
    "class mother:\n",
    "    def print(self):\n",
    "        print(\"In Mother Class\")\n",
    "\n",
    "class father:\n",
    "    def print(self):\n",
    "        print(\"In Father Class\")\n",
    "\n",
    "class child(father,mother):\n",
    "    def __init__(self,name):\n",
    "        self.name =name\n",
    "    def printchild(self):\n",
    "        print(\"Name:\",self.name)\n",
    "    \n",
    "c = child(\"Rohan\")\n",
    "c.printchild()\n",
    "c.print() #it depends upon in which order we are inheriting the child class"
   ]
  },
  {
   "cell_type": "code",
   "execution_count": 39,
   "metadata": {},
   "outputs": [
    {
     "name": "stdout",
     "output_type": "stream",
     "text": [
      "Name: Mukesh\n",
      "In Father Class\n"
     ]
    }
   ],
   "source": [
    "class mother:\n",
    "    def __init__(self):\n",
    "        self.name = \"Rakesh\"\n",
    "    def print(self):\n",
    "        print(\"In Mother Class\")\n",
    "\n",
    "class father:\n",
    "    def __init__(self):\n",
    "        self.name = \"Mukesh\"\n",
    "    def print(self):\n",
    "        print(\"In Father Class\")\n",
    "\n",
    "class child(father,mother):\n",
    "    def __init__(self):\n",
    "        super().__init__()\n",
    "    def printchild(self):\n",
    "        print(\"Name:\",self.name)\n",
    "    \n",
    "c = child()\n",
    "c.printchild()\n",
    "c.print() "
   ]
  },
  {
   "cell_type": "markdown",
   "metadata": {},
   "source": [
    "### MultiLevel Inheritance"
   ]
  },
  {
   "cell_type": "code",
   "execution_count": 40,
   "metadata": {},
   "outputs": [
    {
     "name": "stdout",
     "output_type": "stream",
     "text": [
      "Lal mani\n",
      "Grandfather name : Lal mani\n",
      "Father name : Rampal\n",
      "Son name : Prince\n"
     ]
    }
   ],
   "source": [
    "# Python program to demonstrate\n",
    "# multilevel inheritance\n",
    "\n",
    "# Base class\n",
    "class Grandfather:\n",
    "\n",
    "    def __init__(self, grandfathername):\n",
    "        self.grandfathername = grandfathername\n",
    "\n",
    "# Intermediate class\n",
    "class Father(Grandfather):\n",
    "    def __init__(self, fathername, grandfathername):\n",
    "        self.fathername = fathername\n",
    "        \n",
    "        # invoking constructor of Grandfather class\n",
    "        Grandfather.__init__(self, grandfathername)\n",
    "\n",
    "# Derived class\n",
    "class Son(Father):\n",
    "    def __init__(self,sonname, fathername, grandfathername):\n",
    "        self.sonname = sonname\n",
    "\n",
    "        # invoking constructor of Father class\n",
    "        Father.__init__(self, fathername, grandfathername)\n",
    "\n",
    "    def print_name(self):\n",
    "        print('Grandfather name :', self.grandfathername)\n",
    "        print(\"Father name :\", self.fathername)\n",
    "        print(\"Son name :\", self.sonname)\n",
    "\n",
    "# Driver code\n",
    "s1 = Son('Prince', 'Rampal', 'Lal mani')\n",
    "print(s1.grandfathername)\n",
    "s1.print_name()\n"
   ]
  },
  {
   "cell_type": "markdown",
   "metadata": {},
   "source": [
    "### Method Resolution Order(MRO)"
   ]
  },
  {
   "cell_type": "code",
   "execution_count": null,
   "metadata": {},
   "outputs": [],
   "source": [
    "'''\n",
    "Method Resolution Order(MRO) it denotes the way a programming language resolves a method or attribute. \n",
    "Python supports classes inheriting from other classes. The class being inherited is called the Parent or Superclass, \n",
    "while the class that inherits is called the Child or Subclass. In python, method resolution order defines the order \n",
    "in which the base classes are searched when executing a method. First, the method or attribute is searched within a class \n",
    "and then it follows the order we specified while inheriting. This order is also called Linearization of a class and \n",
    "set of rules are called MRO(Method Resolution Order). While inheriting from another class, \n",
    "the interpreter needs a way to resolve the methods that are being called via an instance. \n",
    "Thus we need the method resolution order. \n",
    "\n",
    "'''"
   ]
  },
  {
   "cell_type": "code",
   "execution_count": 43,
   "metadata": {},
   "outputs": [
    {
     "name": "stdout",
     "output_type": "stream",
     "text": [
      "Name: Mukesh\n",
      "[<class '__main__.child'>, <class '__main__.father'>, <class '__main__.mother'>, <class 'object'>]\n"
     ]
    }
   ],
   "source": [
    "class mother:\n",
    "    def __init__(self):\n",
    "        self.name = \"Rakesh\"\n",
    "    def print(self):\n",
    "        print(\"In Mother Class\")\n",
    "\n",
    "class father:\n",
    "    def __init__(self):\n",
    "        self.name = \"Mukesh\"\n",
    "    def print(self):\n",
    "        print(\"In Father Class\")\n",
    "\n",
    "class child(father,mother):\n",
    "    def __init__(self):\n",
    "        super().__init__()\n",
    "    def print(self):\n",
    "        print(\"Name:\",self.name)\n",
    "    \n",
    "c = child()\n",
    "c.print()\n",
    "print(child.mro()) "
   ]
  },
  {
   "cell_type": "markdown",
   "metadata": {},
   "source": [
    "### Operator Overloading "
   ]
  },
  {
   "cell_type": "code",
   "execution_count": null,
   "metadata": {},
   "outputs": [],
   "source": [
    "'''\n",
    "Operator Overloading means giving extended meaning beyond their predefined operational meaning. \n",
    "For example operator + is used to add two integers as well as join two strings and merge two lists. \n",
    "It is achievable because ‘+’ operator is overloaded by int class and str class. \n",
    "You might have noticed that the same built-in operator or function shows different behavior for objects of different classes, \n",
    "this is called Operator Overloading. \n",
    "'''"
   ]
  },
  {
   "cell_type": "code",
   "execution_count": 5,
   "metadata": {},
   "outputs": [
    {
     "name": "stdout",
     "output_type": "stream",
     "text": [
      "This point is at (6,8)\n"
     ]
    }
   ],
   "source": [
    "import math\n",
    "class point:\n",
    "    \n",
    "    def __init__(self,x,y):\n",
    "        self.__x = x\n",
    "        self.__y = y\n",
    "    \n",
    "    def __str__(self):\n",
    "    \n",
    "        return \"This point is at (\"+str(self.__x)+\",\"+str(self.__y)+\")\"\n",
    "    \n",
    "    def __add__(self,other):\n",
    "        return point(self.__x + other.__x , self.__y + other.__y)\n",
    "\n",
    "    def __lt__(self,other):      #less than function\n",
    "        d1 = math.sqrt(pow(self.__x,2) + pow(self.__y,2))\n",
    "        d2 = math.sqrt(pow(other.__x,2) + pow(other.__y,2))\n",
    "        if d1<d2:\n",
    "            return True\n",
    "        else:\n",
    "            return False\n",
    "    \n",
    "p1 = point(2,3)\n",
    "p2 = point(4,5)\n",
    "p3 = p1 + p2\n",
    "print(p3)\n",
    "#result = p1 < p2\n",
    "#print(result)"
   ]
  },
  {
   "cell_type": "markdown",
   "metadata": {},
   "source": [
    "## Abstraction "
   ]
  },
  {
   "cell_type": "code",
   "execution_count": null,
   "metadata": {},
   "outputs": [],
   "source": [
    "'''\n",
    "Abstraction. Abstraction in OOP is a process of hiding the real implementation of the method \n",
    "by only showing a method signature. In Python, we can achieve abstraction using ABC (abstract based class) or abstract method.\n",
    "'''"
   ]
  },
  {
   "cell_type": "markdown",
   "metadata": {},
   "source": [
    "### Abstract Based Class "
   ]
  },
  {
   "cell_type": "code",
   "execution_count": null,
   "metadata": {},
   "outputs": [],
   "source": [
    "'''\n",
    "An abstract class can be considered as a blueprint for other classes. \n",
    "It allows you to create a set of methods that must be created within any child classes built from the abstract class. \n",
    "A class which contains one or more abstract methods is called an abstract class. \n",
    "An abstract method is a method that has a declaration but does not have an implementation. \n",
    "While we are designing large functional units we use an abstract class. \n",
    "When we want to provide a common interface for different implementations of a component, we use an abstract class. \n",
    "'''"
   ]
  },
  {
   "cell_type": "code",
   "execution_count": null,
   "metadata": {},
   "outputs": [],
   "source": [
    "'''\n",
    "Why use Abstract Base Classes : \n",
    "By defining an abstract base class, you can define a common Application Program Interface(API) for a set of subclasses. \n",
    "This capability is especially useful in situations where a third-party is going to provide implementations, \n",
    "such as with plugins, but can also help you when working in a large team or with a large code-base where keeping all classes \n",
    "in your mind is difficult or not possible.\n",
    "'''"
   ]
  },
  {
   "cell_type": "code",
   "execution_count": 1,
   "metadata": {},
   "outputs": [],
   "source": [
    "from abc import ABC, abstractmethod"
   ]
  },
  {
   "cell_type": "code",
   "execution_count": 8,
   "metadata": {},
   "outputs": [
    {
     "name": "stdout",
     "output_type": "stream",
     "text": [
      "I have 3 sides\n",
      "I have 4 sides\n",
      "I have 5 sides\n",
      "I have 6 sides\n"
     ]
    },
    {
     "ename": "TypeError",
     "evalue": "Can't instantiate abstract class Polygon with abstract methods noofsides",
     "output_type": "error",
     "traceback": [
      "\u001b[1;31m---------------------------------------------------------------------------\u001b[0m",
      "\u001b[1;31mTypeError\u001b[0m                                 Traceback (most recent call last)",
      "\u001b[1;32m<ipython-input-8-acdc5e609d17>\u001b[0m in \u001b[0;36m<module>\u001b[1;34m\u001b[0m\n\u001b[0;32m     47\u001b[0m \u001b[0mK\u001b[0m\u001b[1;33m.\u001b[0m\u001b[0mnoofsides\u001b[0m\u001b[1;33m(\u001b[0m\u001b[1;33m)\u001b[0m\u001b[1;33m\u001b[0m\u001b[1;33m\u001b[0m\u001b[0m\n\u001b[0;32m     48\u001b[0m \u001b[1;33m\u001b[0m\u001b[0m\n\u001b[1;32m---> 49\u001b[1;33m \u001b[0mp\u001b[0m \u001b[1;33m=\u001b[0m \u001b[0mPolygon\u001b[0m\u001b[1;33m(\u001b[0m\u001b[1;33m)\u001b[0m\u001b[1;33m\u001b[0m\u001b[1;33m\u001b[0m\u001b[0m\n\u001b[0m",
      "\u001b[1;31mTypeError\u001b[0m: Can't instantiate abstract class Polygon with abstract methods noofsides"
     ]
    }
   ],
   "source": [
    "# Python program showing\n",
    "# abstract base class work\n",
    "\n",
    "from abc import ABC, abstractmethod\n",
    "\n",
    "class Polygon(ABC):\n",
    "\n",
    "    @abstractmethod\n",
    "    def noofsides(self):\n",
    "        pass\n",
    "\n",
    "class Triangle(Polygon):\n",
    "\n",
    "    # overriding abstract method\n",
    "    def noofsides(self):\n",
    "        print(\"I have 3 sides\")\n",
    "\n",
    "class Pentagon(Polygon):\n",
    "\n",
    "    # overriding abstract method\n",
    "    def noofsides(self):\n",
    "        print(\"I have 5 sides\")\n",
    "\n",
    "class Hexagon(Polygon):\n",
    "\n",
    "    # overriding abstract method\n",
    "    def noofsides(self):\n",
    "        print(\"I have 6 sides\")\n",
    "\n",
    "class Quadrilateral(Polygon):\n",
    "\n",
    "    # overriding abstract method\n",
    "    def noofsides(self):\n",
    "        print(\"I have 4 sides\")\n",
    "\n",
    "# Driver code\n",
    "R = Triangle()\n",
    "R.noofsides()\n",
    "\n",
    "K = Quadrilateral()\n",
    "K.noofsides()\n",
    "\n",
    "R = Pentagon()\n",
    "R.noofsides()\n",
    "\n",
    "K = Hexagon()\n",
    "K.noofsides()\n",
    "\n",
    "p = Polygon()"
   ]
  },
  {
   "cell_type": "code",
   "execution_count": null,
   "metadata": {},
   "outputs": [],
   "source": []
  }
 ],
 "metadata": {
  "kernelspec": {
   "display_name": "Python 3",
   "language": "python",
   "name": "python3"
  },
  "language_info": {
   "codemirror_mode": {
    "name": "ipython",
    "version": 3
   },
   "file_extension": ".py",
   "mimetype": "text/x-python",
   "name": "python",
   "nbconvert_exporter": "python",
   "pygments_lexer": "ipython3",
   "version": "3.8.5"
  }
 },
 "nbformat": 4,
 "nbformat_minor": 4
}
