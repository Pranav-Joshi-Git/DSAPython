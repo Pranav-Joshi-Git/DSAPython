{
 "cells": [
  {
   "cell_type": "markdown",
   "metadata": {},
   "source": [
    "### Geometric Sum"
   ]
  },
  {
   "cell_type": "markdown",
   "metadata": {},
   "source": [
    "Given k, find the geometric sum i.e.\n",
    "1 + 1/2 + 1/4 + 1/8 + ... + 1/(2^k) \n",
    "using recursion.\n",
    "Input format :\n",
    "Integer k\n",
    "Output format :\n",
    "Geometric sum (upto 5 decimal places)\n",
    "Constraints :\n",
    "0 <= k <= 1000\n",
    "Sample Input 1 :\n",
    "3\n",
    "Sample Output 1 :\n",
    "1.87500\n",
    "Sample Input 2 :\n",
    "4\n",
    "Sample Output 2 :\n",
    "1.93750\n",
    "\n"
   ]
  },
  {
   "cell_type": "code",
   "execution_count": 20,
   "metadata": {},
   "outputs": [
    {
     "data": {
      "text/plain": [
       "1.875"
      ]
     },
     "execution_count": 20,
     "metadata": {},
     "output_type": "execute_result"
    }
   ],
   "source": [
    "def geometricSum(k):\n",
    "\n",
    "    if(k==0):\n",
    "        return 1\n",
    "\n",
    "    p=pow(2,k)\n",
    "    sum =(1/p)+geometricSum(k-1)\n",
    "    return sum\n",
    "geometricSum(3)"
   ]
  },
  {
   "cell_type": "markdown",
   "metadata": {},
   "source": [
    "### Palindrome"
   ]
  },
  {
   "cell_type": "markdown",
   "metadata": {},
   "source": [
    "Check whether a given String S is a palindrome using recursion. Return true or false.\n",
    "Input Format :\n",
    "String S\n",
    "Output Format :\n",
    "'true' or 'false'\n",
    "Constraints :\n",
    "0 <= |S| <= 1000\n",
    "where |S| represents length of string S.\n",
    "Sample Input 1 :\n",
    "racecar\n",
    "Sample Output 1:\n",
    "true\n",
    "Sample Input 2 :\n",
    "ninja\n",
    "Sample Output 2:\n",
    "false"
   ]
  },
  {
   "cell_type": "code",
   "execution_count": 25,
   "metadata": {},
   "outputs": [
    {
     "data": {
      "text/plain": [
       "True"
      ]
     },
     "execution_count": 25,
     "metadata": {},
     "output_type": "execute_result"
    }
   ],
   "source": [
    "def check_palindrome(s):\n",
    "    if len(s) == 1:\n",
    "        return True\n",
    "    if s[0] == s[-1]:\n",
    "        return check_palindrome(s[1:-1])\n",
    "    else:\n",
    "        return False\n",
    "check_palindrome(\"racecar\")\n"
   ]
  },
  {
   "cell_type": "code",
   "execution_count": 29,
   "metadata": {},
   "outputs": [
    {
     "data": {
      "text/plain": [
       "True"
      ]
     },
     "execution_count": 29,
     "metadata": {},
     "output_type": "execute_result"
    }
   ],
   "source": [
    "def solve(string,start,end):\n",
    "    \n",
    "    if(start >= end):\n",
    "        return True\n",
    "    if(string[start] != string[end]):\n",
    "        return False\n",
    "    return solve(string, start + 1, end - 1)\n",
    "def CheckPalindrome(string):\n",
    "    return solve(string, 0, len(string) - 1)\n",
    "\n",
    "CheckPalindrome(\"racecar\")"
   ]
  },
  {
   "cell_type": "markdown",
   "metadata": {},
   "source": [
    "### Sum of Digits"
   ]
  },
  {
   "cell_type": "markdown",
   "metadata": {},
   "source": [
    "Write a recursive function that returns the sum of the digits of a given integer.\n",
    "Input format :\n",
    "Integer N\n",
    "Output format :\n",
    "Sum of digits of N\n",
    "Constraints :\n",
    "0 <= N <= 10^9\n",
    "Sample Input 1 :\n",
    "12345\n",
    "Sample Output 1 :\n",
    "15\n",
    "Sample Input 2 :\n",
    "9\n",
    "Sample Output 2 :\n",
    "9"
   ]
  },
  {
   "cell_type": "code",
   "execution_count": 30,
   "metadata": {},
   "outputs": [
    {
     "data": {
      "text/plain": [
       "15"
      ]
     },
     "execution_count": 30,
     "metadata": {},
     "output_type": "execute_result"
    }
   ],
   "source": [
    "def sumdigits(number):\n",
    "    if number == 0:\n",
    "        return 0\n",
    "    else:\n",
    "        return (number%10) + sumdigits(number//10)\n",
    "sumdigits(12345)"
   ]
  },
  {
   "cell_type": "markdown",
   "metadata": {},
   "source": [
    "### Multiplication (Recursive)"
   ]
  },
  {
   "cell_type": "markdown",
   "metadata": {},
   "source": [
    "Given two integers M & N, calculate and return their multiplication using recursion. \n",
    "You can only use subtraction and addition for your calculation. No other operators are allowed.\n",
    "Input format :\n",
    "Line 1 : Integer M\n",
    "Line 2 : Integer N\n",
    "Output format :\n",
    "M x N\n",
    "Constraints :\n",
    "0 <= M <= 1000\n",
    "0 <= N <= 1000\n",
    "Sample Input 1 :\n",
    "3 \n",
    "5\n",
    "Sample Output 1 :\n",
    "15\n",
    "Sample Input 2 :\n",
    "4 \n",
    "0\n",
    "Sample Output 2 :\n",
    "0\n"
   ]
  },
  {
   "cell_type": "code",
   "execution_count": 31,
   "metadata": {},
   "outputs": [
    {
     "name": "stdout",
     "output_type": "stream",
     "text": [
      "10\n"
     ]
    }
   ],
   "source": [
    "\n",
    "def product( x , y ):\n",
    "    # if x is less than y swap\n",
    "    # the numbers\n",
    "    if x < y:\n",
    "        return product(y, x)\n",
    "\n",
    "    # iteratively calculate y\n",
    "    # times sum of x\n",
    "    elif y != 0:\n",
    "        return (x + product(x, y - 1))\n",
    "    \n",
    "    # if any of the two numbers is\n",
    "    # zero return zero\n",
    "    else:\n",
    "        return 0\n",
    "\n",
    "# Driver code\n",
    "x = 5\n",
    "y = 2\n",
    "print( product(x, y))\n",
    "\n"
   ]
  },
  {
   "cell_type": "markdown",
   "metadata": {},
   "source": [
    "### Count Zeros"
   ]
  },
  {
   "cell_type": "markdown",
   "metadata": {},
   "source": [
    "Given an integer N, count and return the number of zeros that are present in the given integer using recursion.\n",
    "Input Format :\n",
    "Integer N\n",
    "Output Format :\n",
    "Number of zeros in N\n",
    "Constraints :\n",
    "0 <= N <= 10^9\n",
    "Sample Input 1 :\n",
    "0\n",
    "Sample Output 1 :\n",
    "1\n",
    "Sample Input 2 :\n",
    "00010204\n",
    "Sample Output 2 :\n",
    "2\n",
    "Explanation for Sample Output 2 :\n",
    "Even though \"00010204\" has 5 zeros, the output would still be 2 because when you convert it to an integer, it becomes 10204.\n",
    "Sample Input 3 :\n",
    "708000\n",
    "Sample Output 3 :\n",
    "4"
   ]
  },
  {
   "cell_type": "code",
   "execution_count": 39,
   "metadata": {},
   "outputs": [
    {
     "name": "stdout",
     "output_type": "stream",
     "text": [
      "000010204\n"
     ]
    },
    {
     "data": {
      "text/plain": [
       "2"
      ]
     },
     "execution_count": 39,
     "metadata": {},
     "output_type": "execute_result"
    }
   ],
   "source": [
    "def count(n):\n",
    "   \n",
    "    if n==0:\n",
    "        return 0\n",
    "    if n%10==0:\n",
    "        return 1 + count(n//10) \n",
    "    else:\n",
    "        return count(n//10)\n",
    "i = input()\n",
    "n = int(i)\n",
    "count(n)"
   ]
  },
  {
   "cell_type": "code",
   "execution_count": null,
   "metadata": {},
   "outputs": [],
   "source": []
  }
 ],
 "metadata": {
  "kernelspec": {
   "display_name": "Python 3",
   "language": "python",
   "name": "python3"
  },
  "language_info": {
   "codemirror_mode": {
    "name": "ipython",
    "version": 3
   },
   "file_extension": ".py",
   "mimetype": "text/x-python",
   "name": "python",
   "nbconvert_exporter": "python",
   "pygments_lexer": "ipython3",
   "version": "3.8.5"
  }
 },
 "nbformat": 4,
 "nbformat_minor": 4
}
