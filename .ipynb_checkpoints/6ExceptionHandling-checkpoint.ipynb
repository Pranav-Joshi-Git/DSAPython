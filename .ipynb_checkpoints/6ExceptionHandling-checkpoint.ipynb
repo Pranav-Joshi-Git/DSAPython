{
 "cells": [
  {
   "cell_type": "code",
   "execution_count": null,
   "metadata": {},
   "outputs": [],
   "source": [
    "n = input(\"Enter Numerator: \")\n",
    "num = int(n)\n",
    "d = input(\"Enter Denominator: \")\n",
    "den = int(d)\n",
    "result = num/den\n",
    "print(\"Result: \",result)"
   ]
  },
  {
   "cell_type": "code",
   "execution_count": null,
   "metadata": {},
   "outputs": [],
   "source": [
    "n = input(\"Enter Numerator: \")\n",
    "num = int(n)\n",
    "d = input(\"Enter Denominator: \")\n",
    "den = int(d)\n",
    "result = num/den\n",
    "print(\"Result: \",result)"
   ]
  },
  {
   "cell_type": "markdown",
   "metadata": {},
   "source": [
    "### Handling ValueError"
   ]
  },
  {
   "cell_type": "code",
   "execution_count": null,
   "metadata": {},
   "outputs": [],
   "source": [
    "try:\n",
    "    n = input(\"Enter Numerator: \")\n",
    "    num = int(n)\n",
    "    d = input(\"Enter Denominator: \")\n",
    "    den = int(d)\n",
    "    result = num/den\n",
    "    print(\"Result: \",result)\n",
    "    \n",
    "except ValueError:\n",
    "    print(\"Numerator and Denominator should be integers!!\")"
   ]
  },
  {
   "cell_type": "code",
   "execution_count": null,
   "metadata": {},
   "outputs": [],
   "source": [
    "while True:\n",
    "    try:\n",
    "        n = input(\"Enter Numerator: \")\n",
    "        num = int(n)\n",
    "        d = input(\"Enter Denominator: \")\n",
    "        den = int(d)\n",
    "        result = num/den\n",
    "        print(\"Result: \",result)\n",
    "        break\n",
    "    except ValueError:\n",
    "        print(\"Numerator and Denominator should be integers!!\")"
   ]
  },
  {
   "cell_type": "markdown",
   "metadata": {},
   "source": [
    "### Handling Multiple Exceptions "
   ]
  },
  {
   "cell_type": "code",
   "execution_count": null,
   "metadata": {},
   "outputs": [],
   "source": [
    "while True:\n",
    "    try:\n",
    "        n = input(\"Enter Numerator: \")\n",
    "        num = int(n)\n",
    "        d = input(\"Enter Denominator: \")\n",
    "        den = int(d)\n",
    "        result = num/den\n",
    "        print(\"Result: \",result)\n",
    "        break\n",
    "    except ValueError:\n",
    "        print(\"Numerator and Denominator should be integers!!\")"
   ]
  },
  {
   "cell_type": "code",
   "execution_count": null,
   "metadata": {},
   "outputs": [],
   "source": [
    "while True:\n",
    "    \n",
    "    try:\n",
    "        n = input(\"Enter Numerator: \")\n",
    "        num = int(n)\n",
    "        d = input(\"Enter Denominator: \")\n",
    "        den = int(d)\n",
    "        result = num/den\n",
    "        print(\"Result: \",result)\n",
    "        break\n",
    "    \n",
    "    except ValueError:\n",
    "        print(\"Numerator and Denominator should be integers!!\")\n",
    "    \n",
    "    except ZeroDivisionError:\n",
    "        print(\"Denominator can't be Zero!\")"
   ]
  },
  {
   "cell_type": "code",
   "execution_count": null,
   "metadata": {},
   "outputs": [],
   "source": [
    "while True:\n",
    "    \n",
    "    try:\n",
    "        n = input(\"Enter Numerator: \")\n",
    "        num = int(n)\n",
    "        d = input(\"Enter Denominator: \")\n",
    "        den = int(d)\n",
    "        result = num/den\n",
    "        print(\"Result: \",result)\n",
    "        break\n",
    "    \n",
    "    except (ValueError,ZeroDivisionError):\n",
    "        print(\"Numerator and Denominator should be integers and Denominator can't be Zero!\")\n",
    "    \n",
    "    "
   ]
  },
  {
   "cell_type": "markdown",
   "metadata": {},
   "source": [
    "### Handling Custom Exceptions"
   ]
  },
  {
   "cell_type": "code",
   "execution_count": null,
   "metadata": {},
   "outputs": [],
   "source": [
    "while True:\n",
    "    \n",
    "    try:\n",
    "        n = input(\"Enter Numerator: \")\n",
    "        num = int(n)\n",
    "        d = input(\"Enter Denominator: \")\n",
    "        den = int(d)\n",
    "        if den == 0:\n",
    "            raise ZeroDivisionError\n",
    "        result = num/den\n",
    "        print(\"Result: \",result)\n",
    "        break\n",
    "    \n",
    "    except ValueError:\n",
    "        print(\"Numerator and Denominator should be integers!!\")\n",
    "    \n",
    "    except ZeroDivisionError:\n",
    "        print(\"Denominator can't be Zero!\")"
   ]
  },
  {
   "cell_type": "markdown",
   "metadata": {},
   "source": [
    "### Python Exception Class "
   ]
  },
  {
   "cell_type": "code",
   "execution_count": null,
   "metadata": {},
   "outputs": [],
   "source": [
    "'''\n",
    "In Python, all exceptions must be instances of a class that derives from BaseException . \n",
    "In a try statement with an except clause that mentions a particular class, \n",
    "that clause also handles any exception classes derived from that class (but not exception classes from which it is derived).\n",
    "'''"
   ]
  },
  {
   "cell_type": "code",
   "execution_count": null,
   "metadata": {},
   "outputs": [],
   "source": [
    "class ZeroDenominatorError(Exception):  #Building our own custom exception\n",
    "    pass\n",
    "while True:\n",
    "    \n",
    "    try:\n",
    "        n = input(\"Enter Numerator: \")\n",
    "        num = int(n)\n",
    "        d = input(\"Enter Denominator: \")\n",
    "        den = int(d)\n",
    "        if den == 0:\n",
    "            raise ZeroDenominatorError(\"Denominator Can't be Zero!\")\n",
    "        result = num/den\n",
    "        print(\"Result: \",result)\n",
    "        break\n",
    "    \n",
    "    except ValueError:\n",
    "        print(\"Numerator and Denominator should be integers!!\")\n",
    "    \n",
    "    except ZeroDivisionError:\n",
    "        print(\"Division by zero is not allowed\")\n"
   ]
  },
  {
   "cell_type": "code",
   "execution_count": null,
   "metadata": {},
   "outputs": [],
   "source": [
    "class ZeroDenominatorError(Exception):\n",
    "    pass\n",
    "while True:\n",
    "    \n",
    "    try:\n",
    "        n = input(\"Enter Numerator: \")\n",
    "        num = int(n)\n",
    "        d = input(\"Enter Denominator: \")\n",
    "        den = int(d)\n",
    "        if den == 0:\n",
    "            raise ZeroDenominatorError(\"Denominator Can't be Zero!\")\n",
    "        result = num/den\n",
    "        print(\"Result: \",result)\n",
    "        break\n",
    "    \n",
    "    except ValueError:\n",
    "        print(\"Numerator and Denominator should be integers!!\")\n",
    "    \n",
    "    except ZeroDivisionError:\n",
    "        print(\"Division by zero is not allowed\")\n",
    "    \n",
    "    except ZeroDenominatorError:\n",
    "        print(\"ZeroDenominatorError has raised!\")"
   ]
  },
  {
   "cell_type": "code",
   "execution_count": null,
   "metadata": {},
   "outputs": [],
   "source": [
    "#ZeroDenominatorError has raised!"
   ]
  },
  {
   "cell_type": "code",
   "execution_count": null,
   "metadata": {},
   "outputs": [],
   "source": [
    "class ZeroDenominatorError(ZeroDivisionError):\n",
    "    pass\n",
    "while True:\n",
    "    \n",
    "    try:\n",
    "        n = input(\"Enter Numerator: \")\n",
    "        num = int(n)\n",
    "        d = input(\"Enter Denominator: \")\n",
    "        den = int(d)\n",
    "        if den == 0:\n",
    "            raise ZeroDenominatorError(\"Denominator Can't be Zero!\")\n",
    "        result = num/den\n",
    "        print(\"Result: \",result)\n",
    "        break\n",
    "    \n",
    "    except ValueError:\n",
    "        print(\"Numerator and Denominator should be integers!!\")\n",
    "    \n",
    "    except ZeroDivisionError:\n",
    "        print(\"Division by zero is not allowed\")\n",
    "    \n",
    "    except ZeroDenominatorError:\n",
    "        print(\"ZeroDenominatorError has raised!\")"
   ]
  },
  {
   "cell_type": "code",
   "execution_count": null,
   "metadata": {},
   "outputs": [],
   "source": [
    "#Division by zero is not allowed, because we have inherited from ZeroDivisionError class\n",
    "'''\n",
    "As ZeroDenominatorError is inheriting ZeroDivisionError class,\n",
    "which means:\n",
    "every ZeroDenominatorError is a ZeroDivisionError\n",
    "'''"
   ]
  },
  {
   "cell_type": "code",
   "execution_count": null,
   "metadata": {},
   "outputs": [],
   "source": [
    "class ZeroDenominatorError(ZeroDivisionError):\n",
    "    pass\n",
    "while True:\n",
    "    \n",
    "    try:\n",
    "        n = input(\"Enter Numerator: \")\n",
    "        num = int(n)\n",
    "        d = input(\"Enter Denominator: \")\n",
    "        den = int(d)\n",
    "        if den == 0:\n",
    "            raise ZeroDenominatorError(\"Denominator Can't be Zero!\")\n",
    "        result = num/den\n",
    "        print(\"Result: \",result)\n",
    "        break\n",
    "    \n",
    "    except ValueError:\n",
    "        print(\"Numerator and Denominator should be integers!!\")\n",
    "    \n",
    "    except ZeroDenominatorError:\n",
    "        print(\"ZeroDenominatorError has raised!\")\n",
    "    \n",
    "    except ZeroDivisionError:\n",
    "        print(\"Division by zero is not allowed\")\n",
    "    \n",
    "    "
   ]
  },
  {
   "cell_type": "code",
   "execution_count": null,
   "metadata": {},
   "outputs": [],
   "source": [
    "# ZeroDenominatorError has raised! beacuse we have changed the order"
   ]
  },
  {
   "cell_type": "code",
   "execution_count": null,
   "metadata": {},
   "outputs": [],
   "source": [
    "class ZeroDenominatorError(ZeroDivisionError):\n",
    "    pass\n",
    "while True:\n",
    "    \n",
    "    try:\n",
    "        n = input(\"Enter Numerator: \")\n",
    "        num = int(n)\n",
    "        d = input(\"Enter Denominator: \")\n",
    "        den = int(d)\n",
    "        if den == 0:\n",
    "            raise ZeroDenominatorError(\"Denominator Can't be Zero!\")\n",
    "        result = num/den\n",
    "        print(\"Result: \",result)\n",
    "        break\n",
    "    \n",
    "    except ValueError:\n",
    "        print(\"Numerator and Denominator should be integers!!\")\n",
    "    \n",
    "    except ZeroDenominatorError:\n",
    "        print(\"ZeroDenominatorError has raised!\")\n",
    "        \n",
    "    except:\n",
    "        print(\"Some Error has occured\")\n",
    "    \n",
    "    except ZeroDivisionError:\n",
    "        print(\"Division by zero is not allowed\")\n",
    "    \n",
    "    "
   ]
  },
  {
   "cell_type": "code",
   "execution_count": null,
   "metadata": {},
   "outputs": [],
   "source": [
    "'''as per the functionality of the except\n",
    "default 'except:' must be defined at last'''"
   ]
  },
  {
   "cell_type": "code",
   "execution_count": 25,
   "metadata": {},
   "outputs": [
    {
     "name": "stdout",
     "output_type": "stream",
     "text": [
      "Enter Numerator: 5\n",
      "Enter Denominator: 2\n",
      "No Error has occured\n",
      "Result:  2.5\n",
      "Thank You!\n"
     ]
    }
   ],
   "source": [
    "class ZeroDenominatorError(ZeroDivisionError):\n",
    "    pass\n",
    "while True:\n",
    "    \n",
    "    try:\n",
    "        n = input(\"Enter Numerator: \")\n",
    "        num = int(n)\n",
    "        d = input(\"Enter Denominator: \")\n",
    "        den = int(d)\n",
    "        if den == 0:\n",
    "            raise ZeroDenominatorError(\"Denominator Can't be Zero!\")\n",
    "        result = num/den\n",
    "        \n",
    "    except ValueError:\n",
    "        print(\"Numerator and Denominator should be integers!!\")\n",
    "    \n",
    "    except ZeroDenominatorError:\n",
    "        print(\"ZeroDenominatorError has raised!\")\n",
    "        \n",
    "    except ZeroDivisionError:\n",
    "        print(\"Division by zero is not allowed\")\n",
    "        \n",
    "    except:\n",
    "        print(\"Some Error has occured\")\n",
    "    \n",
    "    else:\n",
    "        print(\"No Error has occured\")\n",
    "        print(\"Result: \",result)\n",
    "        break\n",
    "    \n",
    "        #if none of the error is triggered, else block will be executed\n",
    "    finally:\n",
    "        print(\"Thank You!\")\n",
    "        #finally will get excuted even if the exception is raised or isn't raised\n",
    "    \n",
    "    "
   ]
  },
  {
   "cell_type": "code",
   "execution_count": null,
   "metadata": {},
   "outputs": [],
   "source": []
  }
 ],
 "metadata": {
  "kernelspec": {
   "display_name": "Python 3",
   "language": "python",
   "name": "python3"
  },
  "language_info": {
   "codemirror_mode": {
    "name": "ipython",
    "version": 3
   },
   "file_extension": ".py",
   "mimetype": "text/x-python",
   "name": "python",
   "nbconvert_exporter": "python",
   "pygments_lexer": "ipython3",
   "version": "3.8.5"
  }
 },
 "nbformat": 4,
 "nbformat_minor": 4
}
