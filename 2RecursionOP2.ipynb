{
 "cells": [
  {
   "cell_type": "markdown",
   "metadata": {},
   "source": [
    "### Recursion with strings"
   ]
  },
  {
   "cell_type": "markdown",
   "metadata": {},
   "source": [
    "We are given a string, in which we have to replace every occurence of character 'a' with 'b'"
   ]
  },
  {
   "cell_type": "code",
   "execution_count": 2,
   "metadata": {},
   "outputs": [
    {
     "data": {
      "text/plain": [
       "'Pr@n@v'"
      ]
     },
     "execution_count": 2,
     "metadata": {},
     "output_type": "execute_result"
    }
   ],
   "source": [
    "def replace(s,a,b):\n",
    "    l = len(s)\n",
    "    if l==0 :\n",
    "        return s\n",
    "    SmallerString = s[1:]\n",
    "    SmallerOutput = replace(SmallerString,a,b)\n",
    "    if s[0] == a:\n",
    "        return b + SmallerOutput\n",
    "    else:\n",
    "        return s[0] + SmallerOutput\n",
    "s = 'Pranav'\n",
    "a = 'a'\n",
    "b = '@'\n",
    "replace(s,a,b)\n",
    "        "
   ]
  },
  {
   "cell_type": "markdown",
   "metadata": {},
   "source": [
    "Given a string, compute recursively a new string where all 'x' chars have been removed"
   ]
  },
  {
   "cell_type": "code",
   "execution_count": 16,
   "metadata": {},
   "outputs": [
    {
     "data": {
      "text/plain": [
       "'pranav'"
      ]
     },
     "execution_count": 16,
     "metadata": {},
     "output_type": "execute_result"
    }
   ],
   "source": [
    "def removeX(s,a):\n",
    "    if len(s)==0:\n",
    "        return \"\"\n",
    "    SmallerString = s[1:]\n",
    "    SmallerOutput = removeX(SmallerString,a)\n",
    "    if s[0] == a:\n",
    "        return SmallerOutput \n",
    "    else:\n",
    "        return s[0] + SmallerOutput \n",
    "s = 'xpranavx'\n",
    "(removeX(s,'x'))"
   ]
  },
  {
   "cell_type": "markdown",
   "metadata": {},
   "source": [
    "For a given string replace every occurence of 'pi' with 3.14"
   ]
  },
  {
   "cell_type": "code",
   "execution_count": 21,
   "metadata": {},
   "outputs": [
    {
     "data": {
      "text/plain": [
       "'3.14pranav3.14'"
      ]
     },
     "execution_count": 21,
     "metadata": {},
     "output_type": "execute_result"
    }
   ],
   "source": [
    "def replacepi(s,a):\n",
    "    if len(s) == 0 or len(s) == 1:\n",
    "        return s\n",
    "    \n",
    "    if (s[0] == 'p' and s[1]=='i') :\n",
    "        SmallOutput = replacepi(s[2:],a)\n",
    "        return '3.14' + SmallOutput \n",
    "    else:\n",
    "        SmallOutput = replacepi(s[1:],a)\n",
    "        return s[0] + SmallOutput\n",
    "s = 'pipranavpi'\n",
    "replacepi(s,'pi')"
   ]
  },
  {
   "cell_type": "markdown",
   "metadata": {},
   "source": [
    "Given a string S, remove consecutive duplicates from it recursively"
   ]
  },
  {
   "cell_type": "code",
   "execution_count": 5,
   "metadata": {},
   "outputs": [
    {
     "name": "stdout",
     "output_type": "stream",
     "text": [
      "abcaba\n",
      "xyzwz\n"
     ]
    }
   ],
   "source": [
    "def removedup(s):\n",
    "    if len(s) < 2:\n",
    "        return s\n",
    "    if (s[0]!=s[1]):\n",
    "        return s[0] + removedup(s[1:])\n",
    "    return removedup(s[1:])\n",
    "\n",
    "s = 'aaabcaba'\n",
    "print(removedup(s))\n",
    "s = 'xxxyyyzwwzzz'\n",
    "print(removedup(s))\n",
    "        "
   ]
  },
  {
   "cell_type": "markdown",
   "metadata": {},
   "source": [
    "### Binary Search using Recursion"
   ]
  },
  {
   "cell_type": "code",
   "execution_count": 9,
   "metadata": {},
   "outputs": [
    {
     "name": "stdout",
     "output_type": "stream",
     "text": [
      "4\n"
     ]
    }
   ],
   "source": [
    "def BinarySearch(l,low,high,i):\n",
    "    if low > high:\n",
    "        return -1\n",
    "    mid = (low+high)//2\n",
    "    \n",
    "    if(i==l[mid]):\n",
    "        return mid\n",
    "    elif (i<l[mid]):\n",
    "        return BinarySearch(l,low,mid-1,i)\n",
    "    else:\n",
    "        return BinarySearch(l,mid+1,high,i)\n",
    "\n",
    "l = [1,2,3,4,5,6,7,8]\n",
    "low = l[0]\n",
    "high = len(l)-1\n",
    "i=5\n",
    "print(BinarySearch(l,low,high,i))"
   ]
  },
  {
   "cell_type": "markdown",
   "metadata": {},
   "source": [
    "### Merge Sort"
   ]
  },
  {
   "cell_type": "code",
   "execution_count": 28,
   "metadata": {},
   "outputs": [
    {
     "data": {
      "text/plain": [
       "[5, 7, 12, 14, 52, 93]"
      ]
     },
     "execution_count": 28,
     "metadata": {},
     "output_type": "execute_result"
    }
   ],
   "source": [
    "def merge (a1,a2,a):\n",
    "    i = 0\n",
    "    j = 0\n",
    "    k = 0\n",
    "    while i<len(a1) and j<len(a2):\n",
    "        if a1[i] < a2[j]:\n",
    "            a[k] = a1[i]\n",
    "            i+=1\n",
    "            k+=1\n",
    "        else:\n",
    "            a[k] = a2[j]\n",
    "            j+=1\n",
    "            k+=1\n",
    "        \n",
    "    while i<len(a1):\n",
    "        a[k] = a1[i]\n",
    "        i+=1\n",
    "        k+=1\n",
    "   \n",
    "    while j<len(a2):\n",
    "        a[k] = a2[j]\n",
    "        j+=1\n",
    "        k+=1\n",
    "    \n",
    "\n",
    "def merge_sort(a):\n",
    "    if len(a)==0 or len(a)==1:\n",
    "        return\n",
    "    \n",
    "    mid = len(a)//2\n",
    "    a1 = a[:mid]\n",
    "    a2 = a[mid:]\n",
    "    merge_sort(a1)\n",
    "    merge_sort(a2)\n",
    "    \n",
    "    merge(a1,a2,a)\n",
    "    \n",
    "a = [14,7,52,12,5,93]\n",
    "(merge_sort(a))\n",
    "a"
   ]
  },
  {
   "cell_type": "markdown",
   "metadata": {},
   "source": [
    "### QuickSort"
   ]
  },
  {
   "cell_type": "code",
   "execution_count": 37,
   "metadata": {},
   "outputs": [
    {
     "name": "stdout",
     "output_type": "stream",
     "text": [
      "5\n"
     ]
    },
    {
     "data": {
      "text/plain": [
       "[1, 2, 4, 5, 3, 6, 7, 8, 9, 10]"
      ]
     },
     "execution_count": 37,
     "metadata": {},
     "output_type": "execute_result"
    }
   ],
   "source": [
    "def partition(a,si,ei):\n",
    "    pivot = a[si]\n",
    "    #finding number of elements smaller than pivot\n",
    "    count = 0\n",
    "    for i in range(si,ei+1):\n",
    "        if a[i]<pivot:\n",
    "            count+=1\n",
    "    a[si+count],a[si] = a[si],a[si+count]\n",
    "    pivot_index = si + count\n",
    "    \n",
    "    i = si\n",
    "    j = ei\n",
    "    \n",
    "    while i<j:\n",
    "        if a[i] < pivot:\n",
    "            i += 1\n",
    "        elif a[j] >= pivot:\n",
    "            j -= 1\n",
    "        else:\n",
    "            a[i],a[j] = a[j],a[i]\n",
    "            i += 1\n",
    "            j -= 1\n",
    "            \n",
    "    return pivot_index\n",
    "\n",
    "     \n",
    "\n",
    "def quick_sort(a,si,ei):\n",
    "    if si>=ei :\n",
    "        return\n",
    "    pivot_index = partition(a,si,ei)\n",
    "    \n",
    "    quick_sort(a,si,pivot_index-1)\n",
    "    quick_sort(a,pivot_index+1,ei)\n",
    "    \n",
    "    \n",
    "a = [6,10,9,8,7,1,3,5,4,2]\n",
    "print(partition(a,0,len(a)-1))\n",
    "a\n"
   ]
  },
  {
   "cell_type": "code",
   "execution_count": 38,
   "metadata": {},
   "outputs": [
    {
     "data": {
      "text/plain": [
       "[1, 2, 3, 4, 5, 6, 7, 8, 9, 10]"
      ]
     },
     "execution_count": 38,
     "metadata": {},
     "output_type": "execute_result"
    }
   ],
   "source": [
    "quick_sort(a,0,len(a)-1)\n",
    "a"
   ]
  },
  {
   "cell_type": "code",
   "execution_count": null,
   "metadata": {},
   "outputs": [],
   "source": [
    "'''\n",
    "Initially:\n",
    "a = [6,10,9,8,7,1,3,5,4,2]\n",
    "firstly we count the numbers which are smaller than the pivot i.e. 6\n",
    "here the count will be 5\n",
    "then it will swap the 6 with 1 and list will look like\n",
    "[1,10,9,8,7,6,3,5,4,2]\n",
    "now i will be at 1\n",
    "and j will be at 2\n",
    "it checks first condition, i<pivot which is true; hence i moves to 10\n",
    "then 10 is not < 6 as well as 2 is not >=0(here both the if and elif condition fails)\n",
    "hence it will swap 2 and 10 (at the same time i will be incremented and j will be decremented)\n",
    "a = [1,2,9,8,7,6,3,5,4,10]\n",
    "AND SO ON...\n",
    "'''"
   ]
  },
  {
   "cell_type": "code",
   "execution_count": 42,
   "metadata": {},
   "outputs": [
    {
     "data": {
      "text/plain": [
       "56"
      ]
     },
     "execution_count": 42,
     "metadata": {},
     "output_type": "execute_result"
    }
   ],
   "source": [
    "#For input e = 7 & f = 8.\n",
    "\n",
    "def work (e, f):\n",
    "\n",
    "    if (e < f):\n",
    "\n",
    "        return work (f, e)\n",
    "\n",
    "    elif (f != 0):\n",
    "\n",
    "        return (e + work (e, f - 1))\n",
    "    else:\n",
    "\n",
    "        return 0\n",
    "work(7,8)"
   ]
  },
  {
   "cell_type": "markdown",
   "metadata": {},
   "source": [
    "### Tower of Hanoi"
   ]
  },
  {
   "cell_type": "markdown",
   "metadata": {},
   "source": [
    "Tower of Hanoi is a mathematical puzzle where we have three rods and n disks. The objective of the puzzle is to move all disks from source rod to destination rod using third rod (say auxiliary). The rules are :\n",
    "1) Only one disk can be moved at a time.\n",
    "2) A disk can be moved only if it is on the top of a rod.\n",
    "3) No disk can be placed on the top of a smaller disk.\n",
    "Print the steps required to move n disks from source rod to destination rod.\n",
    "Source Rod is named as 'a', auxiliary rod as 'b' and destination rod as 'c'.\n"
   ]
  },
  {
   "cell_type": "code",
   "execution_count": 6,
   "metadata": {},
   "outputs": [
    {
     "name": "stdout",
     "output_type": "stream",
     "text": [
      "move the first disk from source to destination\n",
      "move the 2 th disk from source to  helper\n",
      "move the first disk from destination to helper\n",
      "move the 3 th disk from source to  destination\n",
      "move the first disk from helper to source\n",
      "move the 2 th disk from helper to  destination\n",
      "move the first disk from source to destination\n"
     ]
    }
   ],
   "source": [
    "def tower_hanoi(n,a,b,c):\n",
    "    if n==1:\n",
    "        print(\"move the first disk from\",a, \"to\",c)\n",
    "        return\n",
    "    tower_hanoi(n-1,a,c,b)\n",
    "    print(\"move the\",n,\"th disk from\",a,\"to \",c)\n",
    "    tower_hanoi(n-1,b,a,c)\n",
    "tower_hanoi(3,\"source\",\"helper\",\"destination\")"
   ]
  },
  {
   "cell_type": "code",
   "execution_count": null,
   "metadata": {},
   "outputs": [],
   "source": []
  }
 ],
 "metadata": {
  "kernelspec": {
   "display_name": "Python 3",
   "language": "python",
   "name": "python3"
  },
  "language_info": {
   "codemirror_mode": {
    "name": "ipython",
    "version": 3
   },
   "file_extension": ".py",
   "mimetype": "text/x-python",
   "name": "python",
   "nbconvert_exporter": "python",
   "pygments_lexer": "ipython3",
   "version": "3.8.5"
  }
 },
 "nbformat": 4,
 "nbformat_minor": 4
}
