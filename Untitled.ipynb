{
 "cells": [
  {
   "cell_type": "code",
   "execution_count": 4,
   "metadata": {},
   "outputs": [],
   "source": [
    "class vehicle:\n",
    "    def show(self):\n",
    "        print(\"Inside vehicle\")\n",
    "        \n",
    "class car(vehicle):\n",
    "    def show(self):\n",
    "        print(\"Inside car\")\n",
    "        \n",
    "car1 = car()"
   ]
  },
  {
   "cell_type": "code",
   "execution_count": 5,
   "metadata": {},
   "outputs": [
    {
     "name": "stdout",
     "output_type": "stream",
     "text": [
      "<__main__.car object at 0x0000025C84AF3940>\n"
     ]
    }
   ],
   "source": [
    "print(car1)"
   ]
  },
  {
   "cell_type": "code",
   "execution_count": 7,
   "metadata": {},
   "outputs": [
    {
     "name": "stdout",
     "output_type": "stream",
     "text": [
      "Inside car\n"
     ]
    }
   ],
   "source": [
    "car1.show()"
   ]
  },
  {
   "cell_type": "code",
   "execution_count": 8,
   "metadata": {},
   "outputs": [
    {
     "name": "stdout",
     "output_type": "stream",
     "text": [
      "inside child\n"
     ]
    }
   ],
   "source": [
    "class grandfather:\n",
    "    def display(self):\n",
    "        print(\"Inside grandfather\")\n",
    "        \n",
    "class parent(grandfather):\n",
    "    def display(self):\n",
    "        print(\"Inside Parent\")\n",
    "\n",
    "class child(parent):\n",
    "    def display(self):\n",
    "        print(\"inside child\")\n",
    "c = child()\n",
    "c.display()"
   ]
  },
  {
   "cell_type": "code",
   "execution_count": 11,
   "metadata": {},
   "outputs": [
    {
     "name": "stdout",
     "output_type": "stream",
     "text": [
      "Inside mother class\n"
     ]
    }
   ],
   "source": [
    "class father:\n",
    "    def display(self):\n",
    "        print(\"Inside father class\")\n",
    "        \n",
    "class mother:\n",
    "    def display(self):\n",
    "        print(\"Inside mother class\")\n",
    "\n",
    "class child(mother,father):\n",
    "    \n",
    "    pass\n",
    "c = child()\n",
    "c.display()"
   ]
  },
  {
   "cell_type": "code",
   "execution_count": 12,
   "metadata": {},
   "outputs": [
    {
     "name": "stdout",
     "output_type": "stream",
     "text": [
      "Second function 1\n"
     ]
    }
   ],
   "source": [
    "def fun1():\n",
    "    return \"Function 1\"\n",
    "def fun1():\n",
    "    return \"Second function 1\"\n",
    "print(fun1())"
   ]
  },
  {
   "cell_type": "markdown",
   "metadata": {},
   "source": [
    "## Duck Typing"
   ]
  },
  {
   "cell_type": "markdown",
   "metadata": {},
   "source": [
    "if there is a bird\n",
    "if it walks like a duck, quacks like a duck\n",
    "then it is duck"
   ]
  },
  {
   "cell_type": "code",
   "execution_count": 22,
   "metadata": {},
   "outputs": [
    {
     "name": "stdout",
     "output_type": "stream",
     "text": [
      "10\n"
     ]
    }
   ],
   "source": [
    "class specialstring:\n",
    "    def __len__(self):\n",
    "        return 10\n",
    "    \n",
    "str1 = specialstring()\n",
    "print(len(str1))"
   ]
  },
  {
   "cell_type": "markdown",
   "metadata": {},
   "source": [
    "MRO\n",
    "method resolution order\n",
    "ICPO\n",
    "1. Instance\n",
    "2. class\n",
    "3. Parent\n",
    "4. Object      # godfather "
   ]
  },
  {
   "cell_type": "code",
   "execution_count": 24,
   "metadata": {},
   "outputs": [
    {
     "data": {
      "text/plain": [
       "'india country'"
      ]
     },
     "execution_count": 24,
     "metadata": {},
     "output_type": "execute_result"
    }
   ],
   "source": [
    "a='india'\n",
    "b=' country'\n",
    "str.__add__(a,b)\n"
   ]
  },
  {
   "cell_type": "code",
   "execution_count": null,
   "metadata": {},
   "outputs": [],
   "source": []
  }
 ],
 "metadata": {
  "kernelspec": {
   "display_name": "Python 3",
   "language": "python",
   "name": "python3"
  },
  "language_info": {
   "codemirror_mode": {
    "name": "ipython",
    "version": 3
   },
   "file_extension": ".py",
   "mimetype": "text/x-python",
   "name": "python",
   "nbconvert_exporter": "python",
   "pygments_lexer": "ipython3",
   "version": "3.8.5"
  }
 },
 "nbformat": 4,
 "nbformat_minor": 4
}
